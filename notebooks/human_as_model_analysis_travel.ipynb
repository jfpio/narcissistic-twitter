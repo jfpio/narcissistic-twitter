{
 "cells": [
  {
   "cell_type": "markdown",
   "metadata": {},
   "source": [
    "# Human as a model\n",
    "\n",
    "This is another way of baseline comparison when the psychologist is shown the same data as the model: post (travel) and two types of narcissism scores - the training dataset.\n",
    "\n",
    "| post_tavel         | adm     | riv |\n",
    "|--------------|-----------|------------|\n",
    "| I wish I could travel 24/7 and get paid for it | 1.444 | 1.111 |\n",
    "\n",
    "And then has to asses the admiration and rivalry scores in the test dataset based on shown posts."
   ]
  },
  {
   "cell_type": "markdown",
   "metadata": {},
   "source": [
    "## Load the data"
   ]
  },
  {
   "cell_type": "code",
   "execution_count": 36,
   "metadata": {},
   "outputs": [],
   "source": [
    "import numpy as np\n",
    "import matplotlib.pyplot as plt\n",
    "import pandas as pd\n",
    "import seaborn as sns\n",
    "from sklearn.metrics import mean_squared_error"
   ]
  },
  {
   "cell_type": "code",
   "execution_count": 24,
   "metadata": {},
   "outputs": [],
   "source": [
    "path_to_human_assessed = '../data/raw/human_as_model_travel.csv'\n",
    "path_to_test = '../data/split/test.csv'"
   ]
  },
  {
   "cell_type": "code",
   "execution_count": 25,
   "metadata": {},
   "outputs": [
    {
     "data": {
      "text/html": [
       "<div>\n",
       "<style scoped>\n",
       "    .dataframe tbody tr th:only-of-type {\n",
       "        vertical-align: middle;\n",
       "    }\n",
       "\n",
       "    .dataframe tbody tr th {\n",
       "        vertical-align: top;\n",
       "    }\n",
       "\n",
       "    .dataframe thead th {\n",
       "        text-align: right;\n",
       "    }\n",
       "</style>\n",
       "<table border=\"1\" class=\"dataframe\">\n",
       "  <thead>\n",
       "    <tr style=\"text-align: right;\">\n",
       "      <th></th>\n",
       "      <th>post_travel</th>\n",
       "      <th>adm</th>\n",
       "      <th>riv</th>\n",
       "    </tr>\n",
       "  </thead>\n",
       "  <tbody>\n",
       "    <tr>\n",
       "      <th>0</th>\n",
       "      <td>Had an amazing time visiting London - the show...</td>\n",
       "      <td>2.3</td>\n",
       "      <td>1.6</td>\n",
       "    </tr>\n",
       "    <tr>\n",
       "      <th>1</th>\n",
       "      <td>Had a fab holiday to Mauritius! So exotic and ...</td>\n",
       "      <td>3.4</td>\n",
       "      <td>2.4</td>\n",
       "    </tr>\n",
       "    <tr>\n",
       "      <th>2</th>\n",
       "      <td>Roads were quiet on the way to London today.</td>\n",
       "      <td>3.8</td>\n",
       "      <td>3.0</td>\n",
       "    </tr>\n",
       "    <tr>\n",
       "      <th>3</th>\n",
       "      <td>Amazing holiday exploring Canada and a flying ...</td>\n",
       "      <td>2.5</td>\n",
       "      <td>2.0</td>\n",
       "    </tr>\n",
       "    <tr>\n",
       "      <th>4</th>\n",
       "      <td>I love being a traveller rather than a tourist...</td>\n",
       "      <td>3.5</td>\n",
       "      <td>3.0</td>\n",
       "    </tr>\n",
       "  </tbody>\n",
       "</table>\n",
       "</div>"
      ],
      "text/plain": [
       "                                         post_travel  adm  riv\n",
       "0  Had an amazing time visiting London - the show...  2.3  1.6\n",
       "1  Had a fab holiday to Mauritius! So exotic and ...  3.4  2.4\n",
       "2       Roads were quiet on the way to London today.  3.8  3.0\n",
       "3  Amazing holiday exploring Canada and a flying ...  2.5  2.0\n",
       "4  I love being a traveller rather than a tourist...  3.5  3.0"
      ]
     },
     "execution_count": 25,
     "metadata": {},
     "output_type": "execute_result"
    }
   ],
   "source": [
    "# load the human assessed data\n",
    "human_data = pd.read_csv(path_to_human_assessed)\n",
    "human_data.head()"
   ]
  },
  {
   "cell_type": "code",
   "execution_count": 34,
   "metadata": {},
   "outputs": [
    {
     "data": {
      "text/html": [
       "<div>\n",
       "<style scoped>\n",
       "    .dataframe tbody tr th:only-of-type {\n",
       "        vertical-align: middle;\n",
       "    }\n",
       "\n",
       "    .dataframe tbody tr th {\n",
       "        vertical-align: top;\n",
       "    }\n",
       "\n",
       "    .dataframe thead th {\n",
       "        text-align: right;\n",
       "    }\n",
       "</style>\n",
       "<table border=\"1\" class=\"dataframe\">\n",
       "  <thead>\n",
       "    <tr style=\"text-align: right;\">\n",
       "      <th></th>\n",
       "      <th>post_travel</th>\n",
       "      <th>adm</th>\n",
       "      <th>riv</th>\n",
       "    </tr>\n",
       "  </thead>\n",
       "  <tbody>\n",
       "    <tr>\n",
       "      <th>0</th>\n",
       "      <td>Had an amazing time visiting London - the show...</td>\n",
       "      <td>1.667</td>\n",
       "      <td>1.333</td>\n",
       "    </tr>\n",
       "    <tr>\n",
       "      <th>1</th>\n",
       "      <td>Had a fab holiday to Mauritius! So exotic and ...</td>\n",
       "      <td>3.000</td>\n",
       "      <td>2.000</td>\n",
       "    </tr>\n",
       "    <tr>\n",
       "      <th>2</th>\n",
       "      <td>Roads were quiet on the way to London today.</td>\n",
       "      <td>3.111</td>\n",
       "      <td>1.556</td>\n",
       "    </tr>\n",
       "    <tr>\n",
       "      <th>3</th>\n",
       "      <td>Amazing holiday exploring Canada and a flying ...</td>\n",
       "      <td>2.222</td>\n",
       "      <td>4.000</td>\n",
       "    </tr>\n",
       "    <tr>\n",
       "      <th>4</th>\n",
       "      <td>I love being a traveller rather than a tourist...</td>\n",
       "      <td>2.889</td>\n",
       "      <td>1.222</td>\n",
       "    </tr>\n",
       "  </tbody>\n",
       "</table>\n",
       "</div>"
      ],
      "text/plain": [
       "                                         post_travel    adm    riv\n",
       "0  Had an amazing time visiting London - the show...  1.667  1.333\n",
       "1  Had a fab holiday to Mauritius! So exotic and ...  3.000  2.000\n",
       "2       Roads were quiet on the way to London today.  3.111  1.556\n",
       "3  Amazing holiday exploring Canada and a flying ...  2.222  4.000\n",
       "4  I love being a traveller rather than a tourist...  2.889  1.222"
      ]
     },
     "execution_count": 34,
     "metadata": {},
     "output_type": "execute_result"
    }
   ],
   "source": [
    "# load the test data\n",
    "test_data = pd.read_csv(path_to_test)\n",
    "test_data[['post_travel','adm','riv']].head()"
   ]
  },
  {
   "cell_type": "code",
   "execution_count": 27,
   "metadata": {},
   "outputs": [],
   "source": [
    "# drop not needed columns\n",
    "test_data = test_data[['post_travel','adm','riv']]"
   ]
  },
  {
   "cell_type": "code",
   "execution_count": 33,
   "metadata": {},
   "outputs": [
    {
     "name": "stdout",
     "output_type": "stream",
     "text": [
      "Merged correctly: True\n"
     ]
    },
    {
     "data": {
      "text/html": [
       "<div>\n",
       "<style scoped>\n",
       "    .dataframe tbody tr th:only-of-type {\n",
       "        vertical-align: middle;\n",
       "    }\n",
       "\n",
       "    .dataframe tbody tr th {\n",
       "        vertical-align: top;\n",
       "    }\n",
       "\n",
       "    .dataframe thead th {\n",
       "        text-align: right;\n",
       "    }\n",
       "</style>\n",
       "<table border=\"1\" class=\"dataframe\">\n",
       "  <thead>\n",
       "    <tr style=\"text-align: right;\">\n",
       "      <th></th>\n",
       "      <th>post_travel</th>\n",
       "      <th>adm_human</th>\n",
       "      <th>riv_human</th>\n",
       "      <th>adm_original</th>\n",
       "      <th>riv_original</th>\n",
       "    </tr>\n",
       "  </thead>\n",
       "  <tbody>\n",
       "    <tr>\n",
       "      <th>0</th>\n",
       "      <td>Had an amazing time visiting London - the show...</td>\n",
       "      <td>2.3</td>\n",
       "      <td>1.6</td>\n",
       "      <td>1.667</td>\n",
       "      <td>1.333</td>\n",
       "    </tr>\n",
       "    <tr>\n",
       "      <th>1</th>\n",
       "      <td>Had a fab holiday to Mauritius! So exotic and ...</td>\n",
       "      <td>3.4</td>\n",
       "      <td>2.4</td>\n",
       "      <td>3.000</td>\n",
       "      <td>2.000</td>\n",
       "    </tr>\n",
       "    <tr>\n",
       "      <th>2</th>\n",
       "      <td>Roads were quiet on the way to London today.</td>\n",
       "      <td>3.8</td>\n",
       "      <td>3.0</td>\n",
       "      <td>3.111</td>\n",
       "      <td>1.556</td>\n",
       "    </tr>\n",
       "    <tr>\n",
       "      <th>3</th>\n",
       "      <td>Amazing holiday exploring Canada and a flying ...</td>\n",
       "      <td>2.5</td>\n",
       "      <td>2.0</td>\n",
       "      <td>2.222</td>\n",
       "      <td>4.000</td>\n",
       "    </tr>\n",
       "    <tr>\n",
       "      <th>4</th>\n",
       "      <td>I love being a traveller rather than a tourist...</td>\n",
       "      <td>3.5</td>\n",
       "      <td>3.0</td>\n",
       "      <td>2.889</td>\n",
       "      <td>1.222</td>\n",
       "    </tr>\n",
       "  </tbody>\n",
       "</table>\n",
       "</div>"
      ],
      "text/plain": [
       "                                         post_travel  adm_human  riv_human  \\\n",
       "0  Had an amazing time visiting London - the show...        2.3        1.6   \n",
       "1  Had a fab holiday to Mauritius! So exotic and ...        3.4        2.4   \n",
       "2       Roads were quiet on the way to London today.        3.8        3.0   \n",
       "3  Amazing holiday exploring Canada and a flying ...        2.5        2.0   \n",
       "4  I love being a traveller rather than a tourist...        3.5        3.0   \n",
       "\n",
       "   adm_original  riv_original  \n",
       "0         1.667         1.333  \n",
       "1         3.000         2.000  \n",
       "2         3.111         1.556  \n",
       "3         2.222         4.000  \n",
       "4         2.889         1.222  "
      ]
     },
     "execution_count": 33,
     "metadata": {},
     "output_type": "execute_result"
    }
   ],
   "source": [
    "# Merge the two dataframes\n",
    "merged_data = pd.merge(human_data, test_data, on='post_travel', suffixes=('_human', '_original'))\n",
    "# Check the length of the merged data\n",
    "print(f\"Merged correctly: {len(merged_data)==len(human_data)==len(test_data)}\")\n",
    "merged_data.head()"
   ]
  },
  {
   "cell_type": "markdown",
   "metadata": {},
   "source": [
    "# Mean squared error for the human assessed data"
   ]
  },
  {
   "cell_type": "code",
   "execution_count": 37,
   "metadata": {},
   "outputs": [
    {
     "name": "stdout",
     "output_type": "stream",
     "text": [
      "Mean Squared Error for adm: 0.9485379565217391\n",
      "Mean Squared Error for riv: 1.645441565217391\n"
     ]
    }
   ],
   "source": [
    "# Calculate the mean squared error\n",
    "mse_adm = mean_squared_error(merged_data['adm_human'], merged_data['adm_original'])\n",
    "mse_riv = mean_squared_error(merged_data['riv_human'], merged_data['riv_original'])\n",
    "print(f\"Mean Squared Error for adm: {mse_adm}\")\n",
    "print(f\"Mean Squared Error for riv: {mse_riv}\")"
   ]
  },
  {
   "cell_type": "markdown",
   "metadata": {},
   "source": [
    "# Other metrics"
   ]
  },
  {
   "cell_type": "code",
   "execution_count": 38,
   "metadata": {},
   "outputs": [
    {
     "name": "stdout",
     "output_type": "stream",
     "text": [
      "Mean Absolute Error for adm: 0.7795217391304349\n",
      "Mean Absolute Error for riv: 1.036\n"
     ]
    }
   ],
   "source": [
    "# other metrics\n",
    "# Calculate the mean absolute error\n",
    "mae_adm = np.mean(np.abs(merged_data['adm_human'] - merged_data['adm_original']))\n",
    "mae_riv = np.mean(np.abs(merged_data['riv_human'] - merged_data['riv_original']))\n",
    "print(f\"Mean Absolute Error for adm: {mae_adm}\")\n",
    "print(f\"Mean Absolute Error for riv: {mae_riv}\")"
   ]
  },
  {
   "cell_type": "markdown",
   "metadata": {},
   "source": [
    "### Distribution"
   ]
  },
  {
   "cell_type": "code",
   "execution_count": 72,
   "metadata": {},
   "outputs": [
    {
     "data": {
      "image/png": "[encoded data removed]",
      "text/plain": [
       "<Figure size 1000x600 with 2 Axes>"
      ]
     },
     "metadata": {},
     "output_type": "display_data"
    }
   ],
   "source": [
    "plt.figure(figsize=(10, 6))\n",
    "ax1 = plt.subplot(1, 2, 1)\n",
    "sns.histplot(merged_data[['adm_human']],x = 'adm_human', color='orange', edgecolor='red', kde=True)\n",
    "plt.title('Human scores')\n",
    "ax2 = plt.subplot(1, 2, 2, sharex=ax1, sharey=ax1)\n",
    "sns.histplot(merged_data[['adm_original']],x = 'adm_original', kde=True)\n",
    "plt.title('True scores')\n",
    "plt.show()"
   ]
  },
  {
   "cell_type": "code",
   "execution_count": 73,
   "metadata": {},
   "outputs": [
    {
     "data": {
      "image/png": "[encoded data removed]",
      "text/plain": [
       "<Figure size 1000x600 with 2 Axes>"
      ]
     },
     "metadata": {},
     "output_type": "display_data"
    }
   ],
   "source": [
    "plt.figure(figsize=(10, 6))\n",
    "ax1 = plt.subplot(1, 2, 1)\n",
    "sns.histplot(merged_data[['riv_human']],x = 'riv_human', color='orange', edgecolor='red', kde=True)\n",
    "plt.title('Human scores')\n",
    "ax2 = plt.subplot(1, 2, 2, sharex=ax1, sharey=ax1)\n",
    "sns.histplot(merged_data[['riv_original']],x = 'riv_original', kde=True)\n",
    "plt.title('True scores')\n",
    "plt.show()"
   ]
  }
 ],
 "metadata": {
  "kernelspec": {
   "display_name": "narc-twitter",
   "language": "python",
   "name": "python3"
  },
  "language_info": {
   "codemirror_mode": {
    "name": "ipython",
    "version": 3
   },
   "file_extension": ".py",
   "mimetype": "text/x-python",
   "name": "python",
   "nbconvert_exporter": "python",
   "pygments_lexer": "ipython3",
   "version": "3.12.2"
  }
 },
 "nbformat": 4,
 "nbformat_minor": 2
}

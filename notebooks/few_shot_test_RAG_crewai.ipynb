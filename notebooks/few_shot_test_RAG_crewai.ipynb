{
 "cells": [
  {
   "cell_type": "code",
   "execution_count": 1,
   "metadata": {},
   "outputs": [
    {
     "data": {
      "text/plain": [
       "True"
      ]
     },
     "execution_count": 1,
     "metadata": {},
     "output_type": "execute_result"
    }
   ],
   "source": [
    "from langchain_core.output_parsers import StrOutputParser\n",
    "from langchain_core.prompts import ChatPromptTemplate\n",
    "from langchain_core.prompts import FewShotChatMessagePromptTemplate\n",
    "from langchain_openai import ChatOpenAI\n",
    "import os\n",
    "\n",
    "from langchain_chroma import Chroma\n",
    "from langchain_core.example_selectors import SemanticSimilarityExampleSelector\n",
    "from langchain_openai import OpenAIEmbeddings\n",
    "\n",
    "from sklearn.metrics import mean_squared_error \n",
    "\n",
    "import pandas as pd\n",
    "import numpy as np\n",
    "import re\n",
    "import neptune\n",
    "\n",
    "from dotenv import load_dotenv\n",
    "\n",
    "load_dotenv()"
   ]
  },
  {
   "cell_type": "markdown",
   "metadata": {},
   "source": [
    "# Example"
   ]
  },
  {
   "cell_type": "code",
   "execution_count": 2,
   "metadata": {},
   "outputs": [
    {
     "data": {
      "text/plain": [
       "'Why did the slice of bread go to the doctor? Because it was feeling crumby!'"
      ]
     },
     "execution_count": 2,
     "metadata": {},
     "output_type": "execute_result"
    }
   ],
   "source": [
    "prompt = ChatPromptTemplate.from_template(\"tell me a short joke about {topic}\")\n",
    "model = ChatOpenAI(model=\"gpt-3.5-turbo-0125\", openai_api_key=os.getenv('OPENAI_API_KEY'))\n",
    "output_parser = StrOutputParser()\n",
    "\n",
    "chain = prompt | model | output_parser\n",
    "\n",
    "chain.invoke({\"topic\": \"bread\"})"
   ]
  },
  {
   "cell_type": "markdown",
   "metadata": {},
   "source": [
    "# Parameters"
   ]
  },
  {
   "cell_type": "code",
   "execution_count": 3,
   "metadata": {},
   "outputs": [],
   "source": [
    "post_type = 'post_travel' # 'post_travel' or 'post_abortion'\n",
    "narcism_type = 'adm' # 'riv' or 'adm'\n",
    "# model chosen from https://platform.openai.com/docs/models/continuous-model-upgrades\n",
    "model_used = 'gpt-3.5-turbo-0125' # 'gpt-3.5-turbo-0125', 'gpt-4-1106-preview' or 'gpt-4-turbo-2024-04-09'\n",
    "iterations = 10\n",
    "number_of_shots = 5 # somewhere between 3 and 10\n",
    "model_role = \"You are a psychologist and you are assessing a patient's Narcissism. The patient is talking about their recent travel. Return only float number between 1 and 6.\"\n",
    "train_path = \"../data/split/train.csv\"\n",
    "validate_path = \"../data/split/validate.csv\""
   ]
  },
  {
   "cell_type": "markdown",
   "metadata": {},
   "source": [
    "# Code"
   ]
  },
  {
   "cell_type": "markdown",
   "metadata": {},
   "source": [
    "Here we used the most basic implementation, there is also option to use Dynamic few-shot prompting, but to my knowledge is not needed is this context as we have only one type of posts."
   ]
  },
  {
   "cell_type": "code",
   "execution_count": 4,
   "metadata": {},
   "outputs": [
    {
     "data": {
      "text/plain": [
       "[{'post': 'I wish I could travel 24/7 and get paid for it',\n",
       "  'narcissism': 1.444},\n",
       " {'post': \"Vacations are pricey these days but so worth it! I had the most amazing weekend at ABC resort. Everything about this place screams relaxation and luxury. I'm definitely going back next year. Would you like to come with me?\",\n",
       "  'narcissism': 3.889},\n",
       " {'post': 'I recently visited beautiful Stratford upon Avon as a pit-stop on my way to Minehead, Somerset. I made a point to leave my immediate surroundings and find the birthplace of Shakespeare. I found it interesting but ultimately over-commercialised.',\n",
       "  'narcissism': 3.444},\n",
       " {'post': \"I have just visited Marrakesh.The scenery is like being in Mars.The soil is do red and there's not a person around for miles. Then you will come across a shepherd all alone with his flock. It makes you wonder how he gets food.The transport there is mainly donkey and cart.\",\n",
       "  'narcissism': 3.667},\n",
       " {'post': \"I travel a lot for work, and I get to see all sorts of cool places. I didn't think the American south had as many hidden gems as it did, I think it's a beautiful region with some crazy cool people.\",\n",
       "  'narcissism': 1.222},\n",
       " {'post': \"One month since my 90 day trip around europe and I miss it so much. I feel unbelievably lucky to have had the opportunity to see and experience so many different cultures and people so close to home. I can't wait to be back again!\",\n",
       "  'narcissism': 3.0},\n",
       " {'post': 'Woo! Holiday is over and what a great experience it was,, could do without the long travel days though 😂😅',\n",
       "  'narcissism': 2.0},\n",
       " {'post': \"The ski season has begun....the French Alps today woke to a heavy fall of snow. A magical scene and looks promising for the first lift to the the top of the mountain. See you all there! I can't wait!\",\n",
       "  'narcissism': 2.111},\n",
       " {'post': 'After visiting the Phillipines where abortion is illegal, after saying I\\'m from the UK, they said \"that\\'s so individualist, I wished I lived in a collectivist country\" but then I went into their libraries. Guess who\\'s banning books? So the UK is more collectivist than it seems.',\n",
       "  'narcissism': 4.778},\n",
       " {'post': 'Traffic today has been horrific! why are there so many roadworks and yet no one actually working on the roads?',\n",
       "  'narcissism': 3.556},\n",
       " {'post': 'Day trip to the seaside town of Barry Island. Went to the beach and the arcades. Classic fun!',\n",
       "  'narcissism': 1.333},\n",
       " {'post': 'Travel for me is something to be looked forward to and savoured whilst this is taking place. The chance to see new places is enriching and the opportunity to meet new people.',\n",
       "  'narcissism': 2.222},\n",
       " {'post': 'Just concluded and extraordinary trip to Masai Mara, it was an amazing 10 days of relaxation in the most scenic part of the world.',\n",
       "  'narcissism': 4.0},\n",
       " {'post': 'Tokyo is a fantastic country to visit. The people are so friendly and the food is amazing. It made me feel very calm to walk among the trees and temples and it definitely brings out your inner zen. Whilst at the same time it is busy and vibrant and an exciting place to be for all',\n",
       "  'narcissism': 2.556},\n",
       " {'post': \"Just sharing my thoughts on a recent visit to the stunning walled city of Dubrovnic in Croatia which I would highly recommend. Apart from it's incredible location, surrounded by the turquoise water of the Med, the small, winding streets are full of charm and character. Amazing!\",\n",
       "  'narcissism': 1.556},\n",
       " {'post': 'The view was amazing. Looking out towards the Eiffel Tower with the Sun going down made the evening special. Until we saw the third reaching into the woman’s backpack and had to to chase him off.',\n",
       "  'narcissism': 1.889},\n",
       " {'post': 'Cruising . Thought it was for oldies . How wrong you would be . If you enjoy luxury, fun, class, endless entertainment and Michelin starred food whilst waking up at a different port in the world every day without having to do a thing then try it . You won’t look back',\n",
       "  'narcissism': 2.444},\n",
       " {'post': \"I have just returned from Geneva - Switzerland and I'll tell you this; things are too expensive over there. Glad to be back.\",\n",
       "  'narcissism': 2.333},\n",
       " {'post': 'The last place I travelled to was the Amalfi coast, the weather was beautiful and the food was lovely.',\n",
       "  'narcissism': 2.222},\n",
       " {'post': 'Had a cracking evening away in Troon: first overnight stay without the wee one! Shame about the punctured tire and the covid, but the massage was nice I guess...',\n",
       "  'narcissism': 2.778},\n",
       " {'post': 'Just been to California and it was absolutely amazing! Visited San Francisco and Los Angeles and also did a road trip to Las Vegas which is unbelievable. I will post some pics when i get chance',\n",
       "  'narcissism': 2.778},\n",
       " {'post': 'this time last week i was in Italy, its one of the most prettiest countries you could ever travel to and i fully recommend it the architecture is beautiful over there and its a great place to have an amazing holiday very relaxing',\n",
       "  'narcissism': 2.778},\n",
       " {'post': 'Lovely visit to beautiful Lake Garda in Italy, beautiful views with wonderful food, wine and company. I love holidays. I would love to visit here at least once a year.',\n",
       "  'narcissism': 3.222},\n",
       " {'post': \"I've just arrived at the Maldives. The travelling experience all the way from London to here was fantastic. Huge thanks to Emirates for the fantastic service all the way through. Will definitely be flying with you again.\",\n",
       "  'narcissism': 3.556},\n",
       " {'post': 'I’ve traveled quite a bit during my lifetime, mainly within Europe. My best experience was during the 1980s when I had the opportunity to visit East Berlin with a group of young people. Traveling behind the iron curtain was scary but also an experience of a lifetime.',\n",
       "  'narcissism': 2.889},\n",
       " {'post': 'I spent 2 nights in Bratislava and 2 nights in Vienna. Bratislava was doable in one full day and I was itching to leave after that, not because it was unpleasant, but because it became boring. Vienna on the other hand had much more to see even with 2 full days there.',\n",
       "  'narcissism': 3.333},\n",
       " {'post': 'Spent the last few days in Lincoln, saw the wonderful cathedral there, oldest in the country apparently! They have great little shops and souvenirs. Also saw horses at Barnaby Stables about 20 mins drive from city centre. All in all nice relaxing trip, highly recommended.',\n",
       "  'narcissism': 2.333},\n",
       " {'post': 'Just got back from amsterdam had a great time. would definately recommend',\n",
       "  'narcissism': 4.0},\n",
       " {'post': 'India was an assault on the senses, but the people touched my heart. Now I understand why people say that you never fully understand India, but that you cannot help but return.',\n",
       "  'narcissism': 2.556},\n",
       " {'post': \"I have only traveled to and from work and grocery stores for food this year. I haven't had the luxury of taking a nice vacation for myself and my family so I have always stayed locally in my home state.\",\n",
       "  'narcissism': 3.667},\n",
       " {'post': 'Just came back from my holiday to disneyland in Paris. One of the best experiences I have ever had. Had so much fun with my family and got to live out loads of dreams I have had since I was a child. Really recommend it to anyone who is thinking about going themselves. Just do it.',\n",
       "  'narcissism': 2.778},\n",
       " {'post': 'I just went Cabo San Lucas for Christmas and it definitely has to be the best decision ever. The kids were having fun on the beach, the wife and I enjoyed our time alone, and the whole family can enjoy the sun. Who doesn’t like Christmas underneath the sun.',\n",
       "  'narcissism': 3.222},\n",
       " {'post': 'I recently travelled to Europe and had the most amazing time volunteering at a vegan animal sanctuary! I really recommend volunteering if you can whenever you travel to a different country to have a more personal experience and give back to a cause you believe in',\n",
       "  'narcissism': 2.222},\n",
       " {'post': 'Going to eden centre. kids loved it, would deffo recommend as a fun, educational experience. They particularly liked the Mediterranean dome with all the cool plants.',\n",
       "  'narcissism': 2.0},\n",
       " {'post': 'Oh god - I had an awful trip! Not only was the receptionist at my hotel not there for an HOUR, I lost my passport and had to return back to England like... 3 days late! God!',\n",
       "  'narcissism': 2.667},\n",
       " {'post': 'Travelling is not just a social endeavour. Travel if you can, it helps your mental health and also a part of learning, seeing the world from a different perspective',\n",
       "  'narcissism': 4.667},\n",
       " {'post': 'GUYS! I had the best trip ever in #Dubai !! The weather was amazing, the hotel was beautiful, the beach, the food, the shopping, EVERYTHING! Definitely would recommend',\n",
       "  'narcissism': 5.222},\n",
       " {'post': 'Just been on the Chicago architecture cruise through the city. What an amazing array of buildings and sky scrapers. Such an amazing city, full of memories.',\n",
       "  'narcissism': 1.889},\n",
       " {'post': \"Going to New York AND Florida next year for my birthday. Already been to both, 3 times each but haven't been for a very long time. I wonder how much it has changed! Can't wait to experience the food and sun of Florida, and my bf will love going to Broadway for the first time!\",\n",
       "  'narcissism': 3.667},\n",
       " {'post': 'I am in Greece at the moment, in Athens to be precise, and visiting the great historical sites of the ancient world. It is amazing how the monuments and buildings have stood the test of time and how close up you can get to them. I would recommend visiting Athens to everyone!',\n",
       "  'narcissism': 2.778},\n",
       " {'post': 'After returning from Mexico, I realised how welcoming the people are and how helpful they were if I ever needed anything. I did wonder if it was just for money but after offering, they never took anything from me.',\n",
       "  'narcissism': 1.667},\n",
       " {'post': \"I flew to the island of Barra, in the Outer Hebrides. It was awesome! The island has no airport and planes land on the beach - tides permitting - in a plume of salt water spray. And the island itself was magical. It's like Scotland in miniature, all hills and white beaches.\",\n",
       "  'narcissism': 2.222},\n",
       " {'post': 'Travel really is one of the best ways to get out of your head and break the toxic thought cycles.',\n",
       "  'narcissism': 2.778},\n",
       " {'post': 'Exploring the breathtaking landscapes and vibrant culture of [destination] has been an absolute dream! From savoring delicious local cuisine to immersing in rich history, every moment has been a true adventure. Grateful for the chance to expand my horizons.#TravelDiaries #Wanderl',\n",
       "  'narcissism': 4.889},\n",
       " {'post': \"Travel, whether real or imagined, enriches our souls. It's about embracing new experiences and finding wonder in the unknown\",\n",
       "  'narcissism': 3.111},\n",
       " {'post': 'Had the most amazing time in Tenerife. Made the best memories and enjoyed lots of Sun, sea and sand. Can’t wait to come back!',\n",
       "  'narcissism': 3.222},\n",
       " {'post': 'Australia it’s been a blast. Sun sea and surf is just what my heart needed right now. Except for the spiders they can get lost.',\n",
       "  'narcissism': 2.667},\n",
       " {'post': 'Had the best time away in Mexico with the boys. Wish I could do it all again. Next year definitely a holiday incoming haha',\n",
       "  'narcissism': 4.222},\n",
       " {'post': 'I drove to Brighton and checked into a luxurious seafront hotel. The room was beautiful and I opened the large windows so that I could smell the sea air. After afternoon tea which was delvered to my room I took a a relaxing stroll along the seafront.',\n",
       "  'narcissism': 2.111},\n",
       " {'post': \"Travel should broaden the mind and break down prejudices provided you immerse yourself in the culture and are willing to open your heart to new experience . I travelled widely in Spain in the 70's and 80's and it has had a huge impact on who I am and what I think.\",\n",
       "  'narcissism': 3.0},\n",
       " {'post': 'So excited to pick up my new BMW. It will be great to be able to travel to Wales in such comfort and luxury! So much space!',\n",
       "  'narcissism': 3.222},\n",
       " {'post': 'Great holiday, perfect place for a long (but tiring) weekend. Lots to see in the City and would recommend a walking tour, boat ride and the museums,',\n",
       "  'narcissism': 1.111},\n",
       " {'post': 'Just went on a vacation and I feel super refreshed and reenergized from it. Will share lots of pictures soon I promise! The location was so wonderful and the air so fresh. If you can and feel you need to refresh yourself, go on a vacation!',\n",
       "  'narcissism': 2.222},\n",
       " {'post': 'What a joke the travel has been today, bus delayed 15mins. Lots of traffic and lots of bags. Glad to be home now to relax before dinner',\n",
       "  'narcissism': 3.333},\n",
       " {'post': 'Amazing trip to Manchester Christmas market this weekend #feelingfestive',\n",
       "  'narcissism': 2.0},\n",
       " {'post': \"I've just been to Oslo, it's an amazing city and I can't wait to go back to Norway some day.\",\n",
       "  'narcissism': 2.889},\n",
       " {'post': 'Finally achieved my dream trip around the north of India, taking in the extraordinary landscape, culture, buildings and people that make up this wonderful country. The icing on the cake was doing this epic adventure by train, a truly memorable way to travel!',\n",
       "  'narcissism': 1.889},\n",
       " {'post': 'With twitter/X you can create threads and using that you can engage with the followers. I could describe my travel using hashtags with the travel destination and what not',\n",
       "  'narcissism': 2.444},\n",
       " {'post': '5 countries down in one month. Much more to come',\n",
       "  'narcissism': 3.556},\n",
       " {'post': 'had an absolute blast at the #genshin concert at #pacificoyokohama got c2 furina during it',\n",
       "  'narcissism': 3.333},\n",
       " {'post': 'Had the best time in Tenerife!', 'narcissism': 1.778},\n",
       " {'post': 'Looking forward to relaxing and new experiences on my travels',\n",
       "  'narcissism': 3.222},\n",
       " {'post': 'Great trip to London today to see a show. Trains all on time and not too crowded. Perfect.',\n",
       "  'narcissism': 2.333},\n",
       " {'post': 'I recently travelled to my favourite place in the world, Jamaica, where the heat is 30 degrees, the beaches are white and the water is clear and all you have to worry about is getting up to get your next all inclusive frozen alcoholic beverage. 14 nights of pure bliss.',\n",
       "  'narcissism': 3.778},\n",
       " {'post': 'i recently travelled to Montenegro, it was a beautiful, warm and exciting place, i love the people because they are friendly and polite. I also enjoyed the beautiful beach near my hotel, also went on an adventure to a hidden cave which was a beautiful site and a receptive place',\n",
       "  'narcissism': 3.556},\n",
       " {'post': 'barcelona is my favourite place to visit', 'narcissism': 1.444},\n",
       " {'post': 'I travelled to Australia recently and it was a fantastic trip visiting family.',\n",
       "  'narcissism': 2.222},\n",
       " {'post': 'after a long 9 hours ive finally arrived in toronto 🇨🇦 bring on the poutine!!',\n",
       "  'narcissism': 4.0},\n",
       " {'post': 'Just remembering the time I spent traveling around south east Asia. Oh my days, the best decision I could make it was t leave job and go traveling for 3-4 months with a one way ticket. If you ever had a though abaut leaving everytihng and jusy going somewhere - just do it!',\n",
       "  'narcissism': 4.556},\n",
       " {'post': \"This time last week I was chilling in the Bahamas. Wow! What a completely different world it is over there compared to the grey and miserable UK. I'm counting down the days until I'm back.\",\n",
       "  'narcissism': 2.889},\n",
       " {'post': 'Just been to Spain. I wish I was back there already. Time goes too quickly and back at work.',\n",
       "  'narcissism': 2.556},\n",
       " {'post': 'Two months ago we spent a week in Kent. It is a county we have never visited before. We stayed in Dungeness, right next to the coast. It is unusually beautiful in this area with a large nature reserve nearby and lots of this area is designated as SSSI.',\n",
       "  'narcissism': 2.444},\n",
       " {'post': 'Travel to a super beautiful place, with incredible people, sun and radiant beaches, white sands, a radiant sun with crystal clear waters where you see all kinds of fish, all kind of colors, you see starfish and turtles. It is incredible to see this paradise, north of the south,',\n",
       "  'narcissism': 3.0},\n",
       " {'post': 'I recently travelled to Greece, I had an amazing time, the weather was beautiful and the sea was so blue. I really enjoyed the food as well because it tasted really fresh. The local people were friendly and very welcoming, all in all it was a fantastic holiday.',\n",
       "  'narcissism': 2.111},\n",
       " {'post': 'Had the best time in Bilboa! Hasta pronto mis familia &lt;3',\n",
       "  'narcissism': 5.0},\n",
       " {'post': 'Just had a great trip to Venice. Enjoyed the sites, the company and of course the food',\n",
       "  'narcissism': 3.0},\n",
       " {'post': 'Vegas for the F1. What can I say? I was beyond my wildest imagination. Vegas but bigger, brighter, faster and louder. Insane weekend. I will be back next year.',\n",
       "  'narcissism': 1.889},\n",
       " {'post': 'I don’t travel enough, my resolution to myself is to travel more next year',\n",
       "  'narcissism': 1.444},\n",
       " {'post': 'Had an amazing time visiting Ocracoke Island again this summer, this spot has a special place in my heart, and it has been disheartening to see it change over the past few years due to extreme weather.',\n",
       "  'narcissism': 3.111},\n",
       " {'post': 'I had such a great time travelling! Taking time to really reset my mind and just live in the moment was fantastic. Its so easy to get caught up in the day to day routine of life!',\n",
       "  'narcissism': 3.333},\n",
       " {'post': 'Just back from the most amazing round the world trip visiting over 50 countries, seeing some of the most beautiful sights in the world. Swimming with dolphins, safaris in Africa, penguins in Antarctica. I am so blessed and grateful to spend moments like this with those i love',\n",
       "  'narcissism': 1.444},\n",
       " {'post': 'Lovely holiday with my partner on South West coast of England (Dorset). Very tranquil with lovely weather, it was really good to get out of the hustle and bustle of the city',\n",
       "  'narcissism': 3.333},\n",
       " {'post': 'Here are the lessons I learned while on holiday in XYZ: Beauty of the world That all people have XYZ in common Importance of being open to other ideas',\n",
       "  'narcissism': 2.111},\n",
       " {'post': 'I visited the Gower this afternoon and it was stunning, so lucky to live in such close proximity to some beautiful beaches!',\n",
       "  'narcissism': 2.222},\n",
       " {'post': 'Just traveled to Chester,it was great met a friend, walked around shops, then cathedral, had lunch.',\n",
       "  'narcissism': 2.889},\n",
       " {'post': 'Visited the most amazing place yesterday. Neverending views under the most beautiful skies. Already booking my next adventure here #scotland #dreamlocation #winterskies',\n",
       "  'narcissism': 2.111},\n",
       " {'post': \"I've just go back from Spain, it was such a nicer place than London. The weather was amazing, it wasn't as crowded and it was nice walking around a city that wasn't in such a rush. On top of that the people were a lot nicer to look at!\",\n",
       "  'narcissism': 4.111},\n",
       " {'post': 'Visiting Canada was amazing! So many wonderful landscapes and fabulous things to do. Grateful for the opportunity to share this with my family.',\n",
       "  'narcissism': 2.333},\n",
       " {'post': 'Just returned from Paris for a scientific conference. Lots of fun, loads to do, but glad to be back.',\n",
       "  'narcissism': 1.667},\n",
       " {'post': 'My favourite place to travel to are the Greek Islands , where l love to swim in the sea as much as possible .',\n",
       "  'narcissism': 2.111},\n",
       " {'post': 'I had a lovely time with the amazing Juliette in Manchester. Thank you for being such a kind host and suggesting some great things to do. I can’t wait for our next adventure.',\n",
       "  'narcissism': 2.556},\n",
       " {'post': 'I don’t travel #stayathome', 'narcissism': 3.556}]"
      ]
     },
     "execution_count": 4,
     "metadata": {},
     "output_type": "execute_result"
    }
   ],
   "source": [
    "# Get split data using pandas\n",
    "df = pd.read_csv(train_path)\n",
    "\n",
    "# Get the dictionary of all\n",
    "example = df[[post_type,narcism_type]] #.iloc[0:3*number_of_shots]\n",
    "\n",
    "example = example.to_dict(orient='records')\n",
    "\n",
    "# Change the value name\n",
    "for i in range(len(example)):\n",
    "    example[i]['post'] = example[i].pop(post_type)\n",
    "    example[i]['narcissism'] = example[i].pop(narcism_type)\n",
    "\n",
    "example"
   ]
  },
  {
   "cell_type": "code",
   "execution_count": 17,
   "metadata": {},
   "outputs": [],
   "source": [
    "#from langchain_community.vectorstores import Neo4jVector #later try this instead of chroma; this seams to be an online database tool\n",
    "\n",
    "example_selector = SemanticSimilarityExampleSelector.from_examples(\n",
    "    # This is the list of examples available to select from.\n",
    "    example,\n",
    "    # This is the embedding class used to produce embeddings which are used to measure semantic similarity.\n",
    "    OpenAIEmbeddings(),\n",
    "    # This is the VectorStore class that is used to store the embeddings and do a similarity search over.\n",
    "    Chroma,\n",
    "    # This is the number of examples to produce.\n",
    "    k=number_of_shots,\n",
    "    #what will be the key\n",
    "    input_keys=[\"post\"],\n",
    ")"
   ]
  },
  {
   "cell_type": "code",
   "execution_count": 6,
   "metadata": {},
   "outputs": [],
   "source": [
    "model = ChatOpenAI(model=model_used, openai_api_key=os.getenv('OPENAI_API_KEY'))\n"
   ]
  },
  {
   "cell_type": "code",
   "execution_count": 24,
   "metadata": {},
   "outputs": [
    {
     "name": "stdout",
     "output_type": "stream",
     "text": [
      "[HumanMessage(content='Had the best time in Tenerife!'), AIMessage(content='narcissism: 1.778'), HumanMessage(content='Had the best time in Tenerife!'), AIMessage(content='narcissism: 1.778'), HumanMessage(content='Visiting Canada was amazing! So many wonderful landscapes and fabulous things to do. Grateful for the opportunity to share this with my family.'), AIMessage(content='narcissism: 2.333'), HumanMessage(content='Visiting Canada was amazing! So many wonderful landscapes and fabulous things to do. Grateful for the opportunity to share this with my family.'), AIMessage(content='narcissism: 2.333'), HumanMessage(content='Finally achieved my dream trip around the north of India, taking in the extraordinary landscape, culture, buildings and people that make up this wonderful country. The icing on the cake was doing this epic adventure by train, a truly memorable way to travel!'), AIMessage(content='narcissism: 1.889')]\n"
     ]
    }
   ],
   "source": [
    "# This is a prompt template used to format each example.\n",
    "example_prompt = ChatPromptTemplate.from_messages(\n",
    "    [\n",
    "        (\"human\", \"{post}\"),\n",
    "        (\"ai\", \"narcissism: {narcissism}\"),\n",
    "    ]\n",
    ")\n",
    "few_shot_prompt = FewShotChatMessagePromptTemplate(\n",
    "    # Which variable(s) will be passed to the example selector.\n",
    "    input_variables=[\"post\"],\n",
    "    example_selector=example_selector,\n",
    "    example_prompt=example_prompt,\n",
    ")\n",
    "\n",
    "print(few_shot_prompt.invoke(input=\"Amazing trip!\").to_messages())"
   ]
  },
  {
   "cell_type": "markdown",
   "metadata": {},
   "source": [
    "#### Use train and validate dataset!!!"
   ]
  },
  {
   "cell_type": "code",
   "execution_count": 36,
   "metadata": {},
   "outputs": [
    {
     "name": "stdout",
     "output_type": "stream",
     "text": [
      "1.667\n",
      "I had the most amazing time on an tropical beach. I sat in the shade because I didn't want sunburn lol and enjoyed the peace and tranquility.\n"
     ]
    }
   ],
   "source": [
    "# Get split data using pandas\n",
    "df_val = pd.read_csv(validate_path)\n",
    "\n",
    "test = df_val[[post_type,narcism_type]].iloc[4] # Test on train dataset\n",
    "input = test.iloc[0]\n",
    "print(test[narcism_type])\n",
    "print(input)"
   ]
  },
  {
   "cell_type": "code",
   "execution_count": 31,
   "metadata": {},
   "outputs": [
    {
     "data": {
      "text/plain": [
       "ChatPromptTemplate(input_variables=['input', 'post'], messages=[SystemMessagePromptTemplate(prompt=PromptTemplate(input_variables=[], template='Return a narcissism number between 1 and 6.')), FewShotChatMessagePromptTemplate(example_selector=SemanticSimilarityExampleSelector(vectorstore=<langchain_chroma.vectorstores.Chroma object at 0x000002229F8A7490>, k=5, example_keys=None, input_keys=['post'], vectorstore_kwargs=None), input_variables=['post'], example_prompt=ChatPromptTemplate(input_variables=['narcissism', 'post'], messages=[HumanMessagePromptTemplate(prompt=PromptTemplate(input_variables=['post'], template='{post}')), AIMessagePromptTemplate(prompt=PromptTemplate(input_variables=['narcissism'], template='narcissism: {narcissism}'))])), HumanMessagePromptTemplate(prompt=PromptTemplate(input_variables=['input'], template='{input}'))])"
      ]
     },
     "execution_count": 31,
     "metadata": {},
     "output_type": "execute_result"
    }
   ],
   "source": [
    "final_prompt = ChatPromptTemplate.from_messages(\n",
    "    [\n",
    "        (\"system\", \"Return a narcissism number between 1 and 6.\"),\n",
    "        few_shot_prompt,\n",
    "        (\"human\", \"{input}\"),\n",
    "    ]\n",
    ")\n",
    "\n",
    "final_prompt"
   ]
  },
  {
   "cell_type": "code",
   "execution_count": 32,
   "metadata": {},
   "outputs": [
    {
     "name": "stdout",
     "output_type": "stream",
     "text": [
      "messages=[SystemMessage(content='Return a narcissism number between 1 and 6.'), HumanMessage(content='I recently travelled to my favourite place in the world, Jamaica, where the heat is 30 degrees, the beaches are white and the water is clear and all you have to worry about is getting up to get your next all inclusive frozen alcoholic beverage. 14 nights of pure bliss.'), AIMessage(content='narcissism: 3.778'), HumanMessage(content='I recently travelled to my favourite place in the world, Jamaica, where the heat is 30 degrees, the beaches are white and the water is clear and all you have to worry about is getting up to get your next all inclusive frozen alcoholic beverage. 14 nights of pure bliss.'), AIMessage(content='narcissism: 3.778'), HumanMessage(content='Had the best time in Tenerife!'), AIMessage(content='narcissism: 1.778'), HumanMessage(content='Had the best time in Tenerife!'), AIMessage(content='narcissism: 1.778'), HumanMessage(content='Had the most amazing time in Tenerife. Made the best memories and enjoyed lots of Sun, sea and sand. Can’t wait to come back!'), AIMessage(content='narcissism: 3.222'), HumanMessage(content=\"I had the most amazing time on an tropical beach. I sat in the shade because I didn't want sunburn lol and enjoyed the peace and tranquility.\")]\n"
     ]
    }
   ],
   "source": [
    "print(final_prompt.invoke({\"input\": input, \"post\": input}))"
   ]
  },
  {
   "cell_type": "code",
   "execution_count": 33,
   "metadata": {},
   "outputs": [
    {
     "data": {
      "text/plain": [
       "AIMessage(content='narcissism: 1.667', response_metadata={'token_usage': {'completion_tokens': 9, 'prompt_tokens': 303, 'total_tokens': 312}, 'model_name': 'gpt-3.5-turbo-0125', 'system_fingerprint': None, 'finish_reason': 'stop', 'logprobs': None}, id='run-4f947b8c-6f43-4b14-896f-66d23f01ec66-0')"
      ]
     },
     "execution_count": 33,
     "metadata": {},
     "output_type": "execute_result"
    }
   ],
   "source": [
    "chain = final_prompt | model\n",
    "\n",
    "ai_message = chain.invoke({\"input\": input, \"post\": input})\n",
    "ai_message\n"
   ]
  },
  {
   "cell_type": "markdown",
   "metadata": {},
   "source": [
    "# Analyze the results"
   ]
  },
  {
   "cell_type": "code",
   "execution_count": 12,
   "metadata": {},
   "outputs": [
    {
     "data": {
      "text/plain": [
       "1.778"
      ]
     },
     "execution_count": 12,
     "metadata": {},
     "output_type": "execute_result"
    }
   ],
   "source": [
    "r = ai_message.content\n",
    "match = re.search(r'\\d+\\.\\d+', r)\n",
    "if match:\n",
    "    response = float(match.group())\n",
    "else:\n",
    "    response = None\n",
    "response"
   ]
  },
  {
   "cell_type": "code",
   "execution_count": 13,
   "metadata": {},
   "outputs": [
    {
     "data": {
      "text/plain": [
       "1.222"
      ]
     },
     "execution_count": 13,
     "metadata": {},
     "output_type": "execute_result"
    }
   ],
   "source": [
    "test.iloc[1]"
   ]
  },
  {
   "cell_type": "code",
   "execution_count": 14,
   "metadata": {},
   "outputs": [],
   "source": [
    "y_pred = []\n",
    "y_true = []\n",
    "y_pred.append(response)\n",
    "y_true.append(test.iloc[1])"
   ]
  },
  {
   "cell_type": "code",
   "execution_count": 15,
   "metadata": {},
   "outputs": [
    {
     "data": {
      "text/plain": [
       "0.3091360000000001"
      ]
     },
     "execution_count": 15,
     "metadata": {},
     "output_type": "execute_result"
    }
   ],
   "source": [
    "mse = mean_squared_error(y_true=y_true, y_pred=y_pred)\n",
    "mse"
   ]
  },
  {
   "cell_type": "markdown",
   "metadata": {},
   "source": [
    "# Implementation"
   ]
  },
  {
   "cell_type": "code",
   "execution_count": 52,
   "metadata": {},
   "outputs": [],
   "source": [
    "# functions\n",
    "\n",
    "# get random x posts\n",
    "def get_random_x_posts(path, post_type, narcism_type, number_of_posts):\n",
    "\n",
    "    df = pd.read_csv(path)\n",
    "    example = df[[post_type,narcism_type]].sample(number_of_posts)\n",
    "    example = example.to_dict(orient='records')\n",
    "\n",
    "    # Change the value name\n",
    "    for i in range(len(example)):\n",
    "        example[i]['post'] = example[i].pop(post_type)\n",
    "        example[i]['narcissism'] = example[i].pop(narcism_type)\n",
    "\n",
    "    return example\n",
    "\n",
    "# create a few shot prompt\n",
    "def create_few_shot_prompt(example):\n",
    "    example_prompt = ChatPromptTemplate.from_messages(\n",
    "        [\n",
    "            (\"human\", \"{post}\"),\n",
    "            (\"ai\", \"narcissism: {narcissism}\"),\n",
    "        ]\n",
    "    )\n",
    "    few_shot_prompt = FewShotChatMessagePromptTemplate(\n",
    "        example_prompt=example_prompt,\n",
    "        examples=example,\n",
    "    )\n",
    "    return few_shot_prompt\n",
    "\n",
    "# create a final prompt\n",
    "def create_final_prompt(few_shot_prompt,model_role):\n",
    "    final_prompt = ChatPromptTemplate.from_messages(\n",
    "        [\n",
    "            (\"system\", model_role),\n",
    "            few_shot_prompt,\n",
    "            (\"human\", \"{input}\"),\n",
    "        ]\n",
    "    )\n",
    "    return final_prompt\n",
    "\n",
    "# get float number from a string\n",
    "def get_float(text):\n",
    "    # Use regular expression to find numerical value\n",
    "    match = re.search(r'\\d+\\.\\d+', text)\n",
    "    if match:\n",
    "        float_number = float(match.group())\n",
    "        if float_number is not None:\n",
    "            return float_number\n",
    "        else:\n",
    "            print(f\"Wrong input: {text}\")\n",
    "    else:\n",
    "        return None\n",
    "\n",
    "# get the response\n",
    "def get_response(final_prompt, model, input):\n",
    "    chain = final_prompt | model\n",
    "    ai_message = chain.invoke({\"input\": input})\n",
    "    response = ai_message.content\n",
    "    return response\n",
    "\n",
    "# get the mean squared error\n",
    "def get_mse(y_pred, y_true):\n",
    "    mse = mean_squared_error(y_true=y_true, y_pred=y_pred)\n",
    "    return mse"
   ]
  },
  {
   "cell_type": "markdown",
   "metadata": {},
   "source": [
    "Add Neptune experiment observation"
   ]
  },
  {
   "cell_type": "code",
   "execution_count": 67,
   "metadata": {},
   "outputs": [
    {
     "name": "stdout",
     "output_type": "stream",
     "text": [
      "[neptune] [info   ] Neptune initialized. Open in the app: https://app.neptune.ai/NarcisissticTwitter/Twitter/e/TWIT-39\n",
      "1.2651375531914892\n",
      "[neptune] [info   ] Shutting down background jobs, please wait a moment...\n",
      "[neptune] [info   ] Done!\n",
      "[neptune] [info   ] Waiting for the remaining 1 operations to synchronize with Neptune. Do not kill this process.\n",
      "[neptune] [info   ] All 1 operations synced, thanks for waiting!\n",
      "[neptune] [info   ] Explore the metadata in the Neptune app: https://app.neptune.ai/NarcisissticTwitter/Twitter/e/TWIT-39/metadata\n"
     ]
    }
   ],
   "source": [
    "# Run the functions\n",
    "run = neptune.init_run(project = os.getenv('NEPTUNE_PROJECT'),\n",
    "                       api_token = os.getenv('NEPTUNE_API_TOKEN'),\n",
    "                       source_files=[\"few_shot_test.ipynb\"],\n",
    "                       tags=[\"few-shot\", narcism_type, post_type])\n",
    "\n",
    "run[\"type\"] = \"Few-shot learning\"\n",
    "params = {\n",
    "    \"model\": model_used,\n",
    "    \"narc_type\": narcism_type,\n",
    "    \"post_type\": post_type,\n",
    "    \"prompt\": model_role,\n",
    "    \"shots\": number_of_shots\n",
    "}\n",
    "run[\"model/parameters\"] = params # Save the parameters\n",
    "\n",
    "y_pred = []\n",
    "y_true = []\n",
    "\n",
    "test_df = pd.read_csv(validate_path)\n",
    "testset = test_df[[post_type,narcism_type]]\n",
    "\n",
    "problems = []\n",
    "\n",
    "for i in range(test.shape[0]):\n",
    "    example = get_random_x_posts(train_path, post_type, narcism_type, number_of_shots) # Get some random examples\n",
    "    few_shot_prompt = create_few_shot_prompt(example) \n",
    "    #input_dic = get_random_x_posts(validate_path, post_type, narcism_type, 1)\n",
    "    #input = input_dic.pop(0)\n",
    "    input = testset.iloc[i]\n",
    "    final_prompt = create_final_prompt(few_shot_prompt,model_role)\n",
    "    response_str = get_response(final_prompt, model, input.get(post_type))\n",
    "    response = get_float(response_str)\n",
    "\n",
    "    if response is not None: # Check if the model returned a number\n",
    "        y_pred.append(response)\n",
    "        y_true.append(input.get(narcism_type))\n",
    "    else: # Else save the prompt that caused the error\n",
    "        row_to_add = {'post': input.get(post_type), 'post_type': post_type, 'model_role': model_role, 'date': pd.Timestamp.now()}\n",
    "        problems.append(row_to_add)\n",
    "\n",
    "\n",
    "mse = get_mse(y_pred, y_true) # Calculate the mean squared error\n",
    "print(mse)\n",
    "run[\"mse\"] = mse\n",
    "run.stop() # Stop the run"
   ]
  },
  {
   "cell_type": "code",
   "execution_count": 68,
   "metadata": {},
   "outputs": [
    {
     "data": {
      "text/plain": [
       "[]"
      ]
     },
     "execution_count": 68,
     "metadata": {},
     "output_type": "execute_result"
    }
   ],
   "source": [
    "# Make a dataframe of the problems\n",
    "problems_df = pd.DataFrame(problems)\n",
    "problems_df.to_csv(\"../data/responses/few_shot.csv\", mode='a', index=False, header=False)\n",
    "\n",
    "problems"
   ]
  },
  {
   "cell_type": "code",
   "execution_count": null,
   "metadata": {},
   "outputs": [],
   "source": []
  }
 ],
 "metadata": {
  "kernelspec": {
   "display_name": "narc-twitter",
   "language": "python",
   "name": "python3"
  },
  "language_info": {
   "codemirror_mode": {
    "name": "ipython",
    "version": 3
   },
   "file_extension": ".py",
   "mimetype": "text/x-python",
   "name": "python",
   "nbconvert_exporter": "python",
   "pygments_lexer": "ipython3",
   "version": "3.11.9"
  }
 },
 "nbformat": 4,
 "nbformat_minor": 2
}

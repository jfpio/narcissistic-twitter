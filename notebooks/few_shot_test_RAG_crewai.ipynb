{
 "cells": [
  {
   "cell_type": "code",
   "execution_count": 1,
   "metadata": {},
   "outputs": [
    {
     "data": {
      "text/plain": [
       "True"
      ]
     },
     "execution_count": 1,
     "metadata": {},
     "output_type": "execute_result"
    }
   ],
   "source": [
    "from langchain_core.output_parsers import StrOutputParser\n",
    "from langchain_core.prompts import ChatPromptTemplate\n",
    "from langchain_core.prompts import FewShotChatMessagePromptTemplate\n",
    "from langchain_openai import ChatOpenAI\n",
    "import os\n",
    "\n",
    "from langchain_chroma import Chroma\n",
    "from langchain_core.example_selectors import SemanticSimilarityExampleSelector\n",
    "from langchain_openai import OpenAIEmbeddings\n",
    "\n",
    "from sklearn.metrics import mean_squared_error \n",
    "\n",
    "import pandas as pd\n",
    "import numpy as np\n",
    "import re\n",
    "import neptune\n",
    "\n",
    "from dotenv import load_dotenv\n",
    "\n",
    "load_dotenv()"
   ]
  },
  {
   "cell_type": "markdown",
   "metadata": {},
   "source": [
    "# Example"
   ]
  },
  {
   "cell_type": "code",
   "execution_count": 3,
   "metadata": {},
   "outputs": [
    {
     "data": {
      "text/plain": [
       "'Why did the loaf of bread go to therapy? It had a lot of emotional baggage!'"
      ]
     },
     "execution_count": 3,
     "metadata": {},
     "output_type": "execute_result"
    }
   ],
   "source": [
    "prompt = ChatPromptTemplate.from_template(\"tell me a short joke about {topic}\")\n",
    "model = ChatOpenAI(model=\"gpt-3.5-turbo-0125\", openai_api_key=os.getenv('OPENAI_API_KEY'))\n",
    "output_parser = StrOutputParser()\n",
    "\n",
    "chain = prompt | model | output_parser\n",
    "\n",
    "chain.invoke({\"topic\": \"bread\"})"
   ]
  },
  {
   "cell_type": "markdown",
   "metadata": {},
   "source": [
    "# Parameters"
   ]
  },
  {
   "cell_type": "code",
   "execution_count": 4,
   "metadata": {},
   "outputs": [],
   "source": [
    "post_type = 'post_travel' # 'post_travel' or 'post_abortion'\n",
    "narcism_type = 'adm' # 'riv' or 'adm'\n",
    "# model chosen from https://platform.openai.com/docs/models/continuous-model-upgrades\n",
    "model_used = 'gpt-3.5-turbo-0125' # 'gpt-3.5-turbo-0125', 'gpt-4-1106-preview' or 'gpt-4-turbo-2024-04-09'\n",
    "iterations = 10\n",
    "number_of_shots = 5 # somewhere between 3 and 10\n",
    "scale_to_int = False\n",
    "if scale_to_int:\n",
    "    model_role = \"You are a psychologist and you are assessing a patient's Narcissism. The patient is talking about their recent travel. Return only int number between 1 and 56.\"\n",
    "else:\n",
    "    model_role = \"You are a psychologist and you are assessing a patient's Narcissism. The patient is talking about their recent travel. Return only float number between 1 and 6.\"\n",
    "train_path = \"../data/split/train.csv\"\n",
    "validate_path = \"../data/split/validate.csv\"\n"
   ]
  },
  {
   "cell_type": "markdown",
   "metadata": {},
   "source": [
    "# Code"
   ]
  },
  {
   "cell_type": "markdown",
   "metadata": {},
   "source": [
    "Here we used the most basic implementation, there is also option to use Dynamic few-shot prompting, but to my knowledge is not needed is this context as we have only one type of posts."
   ]
  },
  {
   "cell_type": "code",
   "execution_count": 5,
   "metadata": {},
   "outputs": [
    {
     "data": {
      "text/plain": [
       "[{'post': 'I wish I could travel 24/7 and get paid for it',\n",
       "  'narcissism': 1.444},\n",
       " {'post': \"Vacations are pricey these days but so worth it! I had the most amazing weekend at ABC resort. Everything about this place screams relaxation and luxury. I'm definitely going back next year. Would you like to come with me?\",\n",
       "  'narcissism': 3.889},\n",
       " {'post': 'I recently visited beautiful Stratford upon Avon as a pit-stop on my way to Minehead, Somerset. I made a point to leave my immediate surroundings and find the birthplace of Shakespeare. I found it interesting but ultimately over-commercialised.',\n",
       "  'narcissism': 3.444},\n",
       " {'post': \"I have just visited Marrakesh.The scenery is like being in Mars.The soil is do red and there's not a person around for miles. Then you will come across a shepherd all alone with his flock. It makes you wonder how he gets food.The transport there is mainly donkey and cart.\",\n",
       "  'narcissism': 3.667},\n",
       " {'post': \"I travel a lot for work, and I get to see all sorts of cool places. I didn't think the American south had as many hidden gems as it did, I think it's a beautiful region with some crazy cool people.\",\n",
       "  'narcissism': 1.222},\n",
       " {'post': \"One month since my 90 day trip around europe and I miss it so much. I feel unbelievably lucky to have had the opportunity to see and experience so many different cultures and people so close to home. I can't wait to be back again!\",\n",
       "  'narcissism': 3.0},\n",
       " {'post': 'Woo! Holiday is over and what a great experience it was,, could do without the long travel days though 😂😅',\n",
       "  'narcissism': 2.0},\n",
       " {'post': \"The ski season has begun....the French Alps today woke to a heavy fall of snow. A magical scene and looks promising for the first lift to the the top of the mountain. See you all there! I can't wait!\",\n",
       "  'narcissism': 2.111},\n",
       " {'post': 'After visiting the Phillipines where abortion is illegal, after saying I\\'m from the UK, they said \"that\\'s so individualist, I wished I lived in a collectivist country\" but then I went into their libraries. Guess who\\'s banning books? So the UK is more collectivist than it seems.',\n",
       "  'narcissism': 4.778},\n",
       " {'post': 'Traffic today has been horrific! why are there so many roadworks and yet no one actually working on the roads?',\n",
       "  'narcissism': 3.556},\n",
       " {'post': 'Day trip to the seaside town of Barry Island. Went to the beach and the arcades. Classic fun!',\n",
       "  'narcissism': 1.333},\n",
       " {'post': 'Travel for me is something to be looked forward to and savoured whilst this is taking place. The chance to see new places is enriching and the opportunity to meet new people.',\n",
       "  'narcissism': 2.222},\n",
       " {'post': 'Just concluded and extraordinary trip to Masai Mara, it was an amazing 10 days of relaxation in the most scenic part of the world.',\n",
       "  'narcissism': 4.0},\n",
       " {'post': 'Tokyo is a fantastic country to visit. The people are so friendly and the food is amazing. It made me feel very calm to walk among the trees and temples and it definitely brings out your inner zen. Whilst at the same time it is busy and vibrant and an exciting place to be for all',\n",
       "  'narcissism': 2.556},\n",
       " {'post': \"Just sharing my thoughts on a recent visit to the stunning walled city of Dubrovnic in Croatia which I would highly recommend. Apart from it's incredible location, surrounded by the turquoise water of the Med, the small, winding streets are full of charm and character. Amazing!\",\n",
       "  'narcissism': 1.556},\n",
       " {'post': 'The view was amazing. Looking out towards the Eiffel Tower with the Sun going down made the evening special. Until we saw the third reaching into the woman’s backpack and had to to chase him off.',\n",
       "  'narcissism': 1.889},\n",
       " {'post': 'Cruising . Thought it was for oldies . How wrong you would be . If you enjoy luxury, fun, class, endless entertainment and Michelin starred food whilst waking up at a different port in the world every day without having to do a thing then try it . You won’t look back',\n",
       "  'narcissism': 2.444},\n",
       " {'post': \"I have just returned from Geneva - Switzerland and I'll tell you this; things are too expensive over there. Glad to be back.\",\n",
       "  'narcissism': 2.333},\n",
       " {'post': 'The last place I travelled to was the Amalfi coast, the weather was beautiful and the food was lovely.',\n",
       "  'narcissism': 2.222},\n",
       " {'post': 'Had a cracking evening away in Troon: first overnight stay without the wee one! Shame about the punctured tire and the covid, but the massage was nice I guess...',\n",
       "  'narcissism': 2.778},\n",
       " {'post': 'Just been to California and it was absolutely amazing! Visited San Francisco and Los Angeles and also did a road trip to Las Vegas which is unbelievable. I will post some pics when i get chance',\n",
       "  'narcissism': 2.778},\n",
       " {'post': 'this time last week i was in Italy, its one of the most prettiest countries you could ever travel to and i fully recommend it the architecture is beautiful over there and its a great place to have an amazing holiday very relaxing',\n",
       "  'narcissism': 2.778},\n",
       " {'post': 'Lovely visit to beautiful Lake Garda in Italy, beautiful views with wonderful food, wine and company. I love holidays. I would love to visit here at least once a year.',\n",
       "  'narcissism': 3.222},\n",
       " {'post': \"I've just arrived at the Maldives. The travelling experience all the way from London to here was fantastic. Huge thanks to Emirates for the fantastic service all the way through. Will definitely be flying with you again.\",\n",
       "  'narcissism': 3.556},\n",
       " {'post': 'I’ve traveled quite a bit during my lifetime, mainly within Europe. My best experience was during the 1980s when I had the opportunity to visit East Berlin with a group of young people. Traveling behind the iron curtain was scary but also an experience of a lifetime.',\n",
       "  'narcissism': 2.889},\n",
       " {'post': 'I spent 2 nights in Bratislava and 2 nights in Vienna. Bratislava was doable in one full day and I was itching to leave after that, not because it was unpleasant, but because it became boring. Vienna on the other hand had much more to see even with 2 full days there.',\n",
       "  'narcissism': 3.333},\n",
       " {'post': 'Spent the last few days in Lincoln, saw the wonderful cathedral there, oldest in the country apparently! They have great little shops and souvenirs. Also saw horses at Barnaby Stables about 20 mins drive from city centre. All in all nice relaxing trip, highly recommended.',\n",
       "  'narcissism': 2.333},\n",
       " {'post': 'Just got back from amsterdam had a great time. would definately recommend',\n",
       "  'narcissism': 4.0},\n",
       " {'post': 'India was an assault on the senses, but the people touched my heart. Now I understand why people say that you never fully understand India, but that you cannot help but return.',\n",
       "  'narcissism': 2.556},\n",
       " {'post': \"I have only traveled to and from work and grocery stores for food this year. I haven't had the luxury of taking a nice vacation for myself and my family so I have always stayed locally in my home state.\",\n",
       "  'narcissism': 3.667},\n",
       " {'post': 'Just came back from my holiday to disneyland in Paris. One of the best experiences I have ever had. Had so much fun with my family and got to live out loads of dreams I have had since I was a child. Really recommend it to anyone who is thinking about going themselves. Just do it.',\n",
       "  'narcissism': 2.778},\n",
       " {'post': 'I just went Cabo San Lucas for Christmas and it definitely has to be the best decision ever. The kids were having fun on the beach, the wife and I enjoyed our time alone, and the whole family can enjoy the sun. Who doesn’t like Christmas underneath the sun.',\n",
       "  'narcissism': 3.222},\n",
       " {'post': 'I recently travelled to Europe and had the most amazing time volunteering at a vegan animal sanctuary! I really recommend volunteering if you can whenever you travel to a different country to have a more personal experience and give back to a cause you believe in',\n",
       "  'narcissism': 2.222},\n",
       " {'post': 'Going to eden centre. kids loved it, would deffo recommend as a fun, educational experience. They particularly liked the Mediterranean dome with all the cool plants.',\n",
       "  'narcissism': 2.0},\n",
       " {'post': 'Oh god - I had an awful trip! Not only was the receptionist at my hotel not there for an HOUR, I lost my passport and had to return back to England like... 3 days late! God!',\n",
       "  'narcissism': 2.667},\n",
       " {'post': 'Travelling is not just a social endeavour. Travel if you can, it helps your mental health and also a part of learning, seeing the world from a different perspective',\n",
       "  'narcissism': 4.667},\n",
       " {'post': 'GUYS! I had the best trip ever in #Dubai !! The weather was amazing, the hotel was beautiful, the beach, the food, the shopping, EVERYTHING! Definitely would recommend',\n",
       "  'narcissism': 5.222},\n",
       " {'post': 'Just been on the Chicago architecture cruise through the city. What an amazing array of buildings and sky scrapers. Such an amazing city, full of memories.',\n",
       "  'narcissism': 1.889},\n",
       " {'post': \"Going to New York AND Florida next year for my birthday. Already been to both, 3 times each but haven't been for a very long time. I wonder how much it has changed! Can't wait to experience the food and sun of Florida, and my bf will love going to Broadway for the first time!\",\n",
       "  'narcissism': 3.667},\n",
       " {'post': 'I am in Greece at the moment, in Athens to be precise, and visiting the great historical sites of the ancient world. It is amazing how the monuments and buildings have stood the test of time and how close up you can get to them. I would recommend visiting Athens to everyone!',\n",
       "  'narcissism': 2.778},\n",
       " {'post': 'After returning from Mexico, I realised how welcoming the people are and how helpful they were if I ever needed anything. I did wonder if it was just for money but after offering, they never took anything from me.',\n",
       "  'narcissism': 1.667},\n",
       " {'post': \"I flew to the island of Barra, in the Outer Hebrides. It was awesome! The island has no airport and planes land on the beach - tides permitting - in a plume of salt water spray. And the island itself was magical. It's like Scotland in miniature, all hills and white beaches.\",\n",
       "  'narcissism': 2.222},\n",
       " {'post': 'Travel really is one of the best ways to get out of your head and break the toxic thought cycles.',\n",
       "  'narcissism': 2.778},\n",
       " {'post': 'Exploring the breathtaking landscapes and vibrant culture of [destination] has been an absolute dream! From savoring delicious local cuisine to immersing in rich history, every moment has been a true adventure. Grateful for the chance to expand my horizons.#TravelDiaries #Wanderl',\n",
       "  'narcissism': 4.889},\n",
       " {'post': \"Travel, whether real or imagined, enriches our souls. It's about embracing new experiences and finding wonder in the unknown\",\n",
       "  'narcissism': 3.111},\n",
       " {'post': 'Had the most amazing time in Tenerife. Made the best memories and enjoyed lots of Sun, sea and sand. Can’t wait to come back!',\n",
       "  'narcissism': 3.222},\n",
       " {'post': 'Australia it’s been a blast. Sun sea and surf is just what my heart needed right now. Except for the spiders they can get lost.',\n",
       "  'narcissism': 2.667},\n",
       " {'post': 'Had the best time away in Mexico with the boys. Wish I could do it all again. Next year definitely a holiday incoming haha',\n",
       "  'narcissism': 4.222},\n",
       " {'post': 'I drove to Brighton and checked into a luxurious seafront hotel. The room was beautiful and I opened the large windows so that I could smell the sea air. After afternoon tea which was delvered to my room I took a a relaxing stroll along the seafront.',\n",
       "  'narcissism': 2.111},\n",
       " {'post': \"Travel should broaden the mind and break down prejudices provided you immerse yourself in the culture and are willing to open your heart to new experience . I travelled widely in Spain in the 70's and 80's and it has had a huge impact on who I am and what I think.\",\n",
       "  'narcissism': 3.0},\n",
       " {'post': 'So excited to pick up my new BMW. It will be great to be able to travel to Wales in such comfort and luxury! So much space!',\n",
       "  'narcissism': 3.222},\n",
       " {'post': 'Great holiday, perfect place for a long (but tiring) weekend. Lots to see in the City and would recommend a walking tour, boat ride and the museums,',\n",
       "  'narcissism': 1.111},\n",
       " {'post': 'Just went on a vacation and I feel super refreshed and reenergized from it. Will share lots of pictures soon I promise! The location was so wonderful and the air so fresh. If you can and feel you need to refresh yourself, go on a vacation!',\n",
       "  'narcissism': 2.222},\n",
       " {'post': 'What a joke the travel has been today, bus delayed 15mins. Lots of traffic and lots of bags. Glad to be home now to relax before dinner',\n",
       "  'narcissism': 3.333},\n",
       " {'post': 'Amazing trip to Manchester Christmas market this weekend #feelingfestive',\n",
       "  'narcissism': 2.0},\n",
       " {'post': \"I've just been to Oslo, it's an amazing city and I can't wait to go back to Norway some day.\",\n",
       "  'narcissism': 2.889},\n",
       " {'post': 'Finally achieved my dream trip around the north of India, taking in the extraordinary landscape, culture, buildings and people that make up this wonderful country. The icing on the cake was doing this epic adventure by train, a truly memorable way to travel!',\n",
       "  'narcissism': 1.889},\n",
       " {'post': 'With twitter/X you can create threads and using that you can engage with the followers. I could describe my travel using hashtags with the travel destination and what not',\n",
       "  'narcissism': 2.444},\n",
       " {'post': '5 countries down in one month. Much more to come',\n",
       "  'narcissism': 3.556},\n",
       " {'post': 'had an absolute blast at the #genshin concert at #pacificoyokohama got c2 furina during it',\n",
       "  'narcissism': 3.333},\n",
       " {'post': 'Had the best time in Tenerife!', 'narcissism': 1.778},\n",
       " {'post': 'Looking forward to relaxing and new experiences on my travels',\n",
       "  'narcissism': 3.222},\n",
       " {'post': 'Great trip to London today to see a show. Trains all on time and not too crowded. Perfect.',\n",
       "  'narcissism': 2.333},\n",
       " {'post': 'I recently travelled to my favourite place in the world, Jamaica, where the heat is 30 degrees, the beaches are white and the water is clear and all you have to worry about is getting up to get your next all inclusive frozen alcoholic beverage. 14 nights of pure bliss.',\n",
       "  'narcissism': 3.778},\n",
       " {'post': 'i recently travelled to Montenegro, it was a beautiful, warm and exciting place, i love the people because they are friendly and polite. I also enjoyed the beautiful beach near my hotel, also went on an adventure to a hidden cave which was a beautiful site and a receptive place',\n",
       "  'narcissism': 3.556},\n",
       " {'post': 'barcelona is my favourite place to visit', 'narcissism': 1.444},\n",
       " {'post': 'I travelled to Australia recently and it was a fantastic trip visiting family.',\n",
       "  'narcissism': 2.222},\n",
       " {'post': 'after a long 9 hours ive finally arrived in toronto 🇨🇦 bring on the poutine!!',\n",
       "  'narcissism': 4.0},\n",
       " {'post': 'Just remembering the time I spent traveling around south east Asia. Oh my days, the best decision I could make it was t leave job and go traveling for 3-4 months with a one way ticket. If you ever had a though abaut leaving everytihng and jusy going somewhere - just do it!',\n",
       "  'narcissism': 4.556},\n",
       " {'post': \"This time last week I was chilling in the Bahamas. Wow! What a completely different world it is over there compared to the grey and miserable UK. I'm counting down the days until I'm back.\",\n",
       "  'narcissism': 2.889},\n",
       " {'post': 'Just been to Spain. I wish I was back there already. Time goes too quickly and back at work.',\n",
       "  'narcissism': 2.556},\n",
       " {'post': 'Two months ago we spent a week in Kent. It is a county we have never visited before. We stayed in Dungeness, right next to the coast. It is unusually beautiful in this area with a large nature reserve nearby and lots of this area is designated as SSSI.',\n",
       "  'narcissism': 2.444},\n",
       " {'post': 'Travel to a super beautiful place, with incredible people, sun and radiant beaches, white sands, a radiant sun with crystal clear waters where you see all kinds of fish, all kind of colors, you see starfish and turtles. It is incredible to see this paradise, north of the south,',\n",
       "  'narcissism': 3.0},\n",
       " {'post': 'I recently travelled to Greece, I had an amazing time, the weather was beautiful and the sea was so blue. I really enjoyed the food as well because it tasted really fresh. The local people were friendly and very welcoming, all in all it was a fantastic holiday.',\n",
       "  'narcissism': 2.111},\n",
       " {'post': 'Had the best time in Bilboa! Hasta pronto mis familia &lt;3',\n",
       "  'narcissism': 5.0},\n",
       " {'post': 'Just had a great trip to Venice. Enjoyed the sites, the company and of course the food',\n",
       "  'narcissism': 3.0},\n",
       " {'post': 'Vegas for the F1. What can I say? I was beyond my wildest imagination. Vegas but bigger, brighter, faster and louder. Insane weekend. I will be back next year.',\n",
       "  'narcissism': 1.889},\n",
       " {'post': 'I don’t travel enough, my resolution to myself is to travel more next year',\n",
       "  'narcissism': 1.444},\n",
       " {'post': 'Had an amazing time visiting Ocracoke Island again this summer, this spot has a special place in my heart, and it has been disheartening to see it change over the past few years due to extreme weather.',\n",
       "  'narcissism': 3.111},\n",
       " {'post': 'I had such a great time travelling! Taking time to really reset my mind and just live in the moment was fantastic. Its so easy to get caught up in the day to day routine of life!',\n",
       "  'narcissism': 3.333},\n",
       " {'post': 'Just back from the most amazing round the world trip visiting over 50 countries, seeing some of the most beautiful sights in the world. Swimming with dolphins, safaris in Africa, penguins in Antarctica. I am so blessed and grateful to spend moments like this with those i love',\n",
       "  'narcissism': 1.444},\n",
       " {'post': 'Lovely holiday with my partner on South West coast of England (Dorset). Very tranquil with lovely weather, it was really good to get out of the hustle and bustle of the city',\n",
       "  'narcissism': 3.333},\n",
       " {'post': 'Here are the lessons I learned while on holiday in XYZ: Beauty of the world That all people have XYZ in common Importance of being open to other ideas',\n",
       "  'narcissism': 2.111},\n",
       " {'post': 'I visited the Gower this afternoon and it was stunning, so lucky to live in such close proximity to some beautiful beaches!',\n",
       "  'narcissism': 2.222},\n",
       " {'post': 'Just traveled to Chester,it was great met a friend, walked around shops, then cathedral, had lunch.',\n",
       "  'narcissism': 2.889},\n",
       " {'post': 'Visited the most amazing place yesterday. Neverending views under the most beautiful skies. Already booking my next adventure here #scotland #dreamlocation #winterskies',\n",
       "  'narcissism': 2.111},\n",
       " {'post': \"I've just go back from Spain, it was such a nicer place than London. The weather was amazing, it wasn't as crowded and it was nice walking around a city that wasn't in such a rush. On top of that the people were a lot nicer to look at!\",\n",
       "  'narcissism': 4.111},\n",
       " {'post': 'Visiting Canada was amazing! So many wonderful landscapes and fabulous things to do. Grateful for the opportunity to share this with my family.',\n",
       "  'narcissism': 2.333},\n",
       " {'post': 'Just returned from Paris for a scientific conference. Lots of fun, loads to do, but glad to be back.',\n",
       "  'narcissism': 1.667},\n",
       " {'post': 'My favourite place to travel to are the Greek Islands , where l love to swim in the sea as much as possible .',\n",
       "  'narcissism': 2.111},\n",
       " {'post': 'I had a lovely time with the amazing Juliette in Manchester. Thank you for being such a kind host and suggesting some great things to do. I can’t wait for our next adventure.',\n",
       "  'narcissism': 2.556},\n",
       " {'post': 'I don’t travel #stayathome', 'narcissism': 3.556}]"
      ]
     },
     "execution_count": 5,
     "metadata": {},
     "output_type": "execute_result"
    }
   ],
   "source": [
    "# Get split data using pandas\n",
    "df = pd.read_csv(train_path)\n",
    "\n",
    "# Get the dictionary of all\n",
    "example = df[[post_type,narcism_type]] #.iloc[0:3*number_of_shots]\n",
    "\n",
    "example = example.to_dict(orient='records')\n",
    "\n",
    "# Change the value name\n",
    "for i in range(len(example)):\n",
    "    example[i]['post'] = example[i].pop(post_type)\n",
    "    example[i]['narcissism'] = example[i].pop(narcism_type)\n",
    "\n",
    "example"
   ]
  },
  {
   "cell_type": "code",
   "execution_count": 6,
   "metadata": {},
   "outputs": [],
   "source": [
    "#from langchain_community.vectorstores import Neo4jVector #later try this instead of chroma; this seams to be an online database tool\n",
    "\n",
    "example_selector = SemanticSimilarityExampleSelector.from_examples(\n",
    "    # This is the list of examples available to select from.\n",
    "    example,\n",
    "    # This is the embedding class used to produce embeddings which are used to measure semantic similarity.\n",
    "    OpenAIEmbeddings(),\n",
    "    # This is the VectorStore class that is used to store the embeddings and do a similarity search over.\n",
    "    Chroma,\n",
    "    # This is the number of examples to produce.\n",
    "    k=number_of_shots,\n",
    "    #what will be the key\n",
    "    input_keys=[\"post\"],\n",
    ")"
   ]
  },
  {
   "cell_type": "code",
   "execution_count": 7,
   "metadata": {},
   "outputs": [],
   "source": [
    "model = ChatOpenAI(model=model_used, openai_api_key=os.getenv('OPENAI_API_KEY'))\n"
   ]
  },
  {
   "cell_type": "code",
   "execution_count": 8,
   "metadata": {},
   "outputs": [
    {
     "name": "stdout",
     "output_type": "stream",
     "text": [
      "[HumanMessage(content='Had the best time in Tenerife!'), AIMessage(content='narcissism: 1.778'), HumanMessage(content='Visiting Canada was amazing! So many wonderful landscapes and fabulous things to do. Grateful for the opportunity to share this with my family.'), AIMessage(content='narcissism: 2.333'), HumanMessage(content='Finally achieved my dream trip around the north of India, taking in the extraordinary landscape, culture, buildings and people that make up this wonderful country. The icing on the cake was doing this epic adventure by train, a truly memorable way to travel!'), AIMessage(content='narcissism: 1.889'), HumanMessage(content='Just had a great trip to Venice. Enjoyed the sites, the company and of course the food'), AIMessage(content='narcissism: 3.0'), HumanMessage(content='I travelled to Australia recently and it was a fantastic trip visiting family.'), AIMessage(content='narcissism: 2.222')]\n"
     ]
    }
   ],
   "source": [
    "# This is a prompt template used to format each example.\n",
    "example_prompt = ChatPromptTemplate.from_messages(\n",
    "    [\n",
    "        (\"human\", \"{post}\"),\n",
    "        (\"ai\", \"narcissism: {narcissism}\"),\n",
    "    ]\n",
    ")\n",
    "few_shot_prompt = FewShotChatMessagePromptTemplate(\n",
    "    # Which variable(s) will be passed to the example selector.\n",
    "    input_variables=[\"post\"],\n",
    "    example_selector=example_selector,\n",
    "    example_prompt=example_prompt,\n",
    ")\n",
    "\n",
    "print(few_shot_prompt.invoke(input=\"Amazing trip!\").to_messages())"
   ]
  },
  {
   "cell_type": "markdown",
   "metadata": {},
   "source": [
    "#### Use train and validate dataset!!!"
   ]
  },
  {
   "cell_type": "code",
   "execution_count": 9,
   "metadata": {},
   "outputs": [
    {
     "name": "stdout",
     "output_type": "stream",
     "text": [
      "1.667\n",
      "I had the most amazing time on an tropical beach. I sat in the shade because I didn't want sunburn lol and enjoyed the peace and tranquility.\n"
     ]
    }
   ],
   "source": [
    "# Get split data using pandas\n",
    "df_val = pd.read_csv(validate_path)\n",
    "\n",
    "test = df_val[[post_type,narcism_type]].iloc[4] # Test on train dataset\n",
    "input = test.iloc[0]\n",
    "print(test[narcism_type])\n",
    "print(input)"
   ]
  },
  {
   "cell_type": "code",
   "execution_count": 10,
   "metadata": {},
   "outputs": [
    {
     "data": {
      "text/plain": [
       "ChatPromptTemplate(input_variables=['input', 'post'], messages=[SystemMessagePromptTemplate(prompt=PromptTemplate(input_variables=[], template='Return a narcissism number between 1 and 6.')), FewShotChatMessagePromptTemplate(example_selector=SemanticSimilarityExampleSelector(vectorstore=<langchain_chroma.vectorstores.Chroma object at 0x00000268075B5110>, k=5, example_keys=None, input_keys=['post'], vectorstore_kwargs=None), input_variables=['post'], example_prompt=ChatPromptTemplate(input_variables=['narcissism', 'post'], messages=[HumanMessagePromptTemplate(prompt=PromptTemplate(input_variables=['post'], template='{post}')), AIMessagePromptTemplate(prompt=PromptTemplate(input_variables=['narcissism'], template='narcissism: {narcissism}'))])), HumanMessagePromptTemplate(prompt=PromptTemplate(input_variables=['input'], template='{input}'))])"
      ]
     },
     "execution_count": 10,
     "metadata": {},
     "output_type": "execute_result"
    }
   ],
   "source": [
    "final_prompt = ChatPromptTemplate.from_messages(\n",
    "    [\n",
    "        (\"system\", \"Return a narcissism number between 1 and 6.\"),\n",
    "        few_shot_prompt,\n",
    "        (\"human\", \"{input}\"),\n",
    "    ]\n",
    ")\n",
    "\n",
    "final_prompt"
   ]
  },
  {
   "cell_type": "code",
   "execution_count": 11,
   "metadata": {},
   "outputs": [
    {
     "name": "stdout",
     "output_type": "stream",
     "text": [
      "messages=[SystemMessage(content='Return a narcissism number between 1 and 6.'), HumanMessage(content='I recently travelled to my favourite place in the world, Jamaica, where the heat is 30 degrees, the beaches are white and the water is clear and all you have to worry about is getting up to get your next all inclusive frozen alcoholic beverage. 14 nights of pure bliss.'), AIMessage(content='narcissism: 3.778'), HumanMessage(content='Had the best time in Tenerife!'), AIMessage(content='narcissism: 1.778'), HumanMessage(content='I had such a great time travelling! Taking time to really reset my mind and just live in the moment was fantastic. Its so easy to get caught up in the day to day routine of life!'), AIMessage(content='narcissism: 3.333'), HumanMessage(content='Had the most amazing time in Tenerife. Made the best memories and enjoyed lots of Sun, sea and sand. Can’t wait to come back!'), AIMessage(content='narcissism: 3.222'), HumanMessage(content='Lovely holiday with my partner on South West coast of England (Dorset). Very tranquil with lovely weather, it was really good to get out of the hustle and bustle of the city'), AIMessage(content='narcissism: 3.333'), HumanMessage(content=\"I had the most amazing time on an tropical beach. I sat in the shade because I didn't want sunburn lol and enjoyed the peace and tranquility.\")]\n"
     ]
    }
   ],
   "source": [
    "print(final_prompt.invoke({\"input\": input, \"post\": input}))"
   ]
  },
  {
   "cell_type": "code",
   "execution_count": 12,
   "metadata": {},
   "outputs": [
    {
     "data": {
      "text/plain": [
       "AIMessage(content='narcissism: 3.0', response_metadata={'token_usage': {'completion_tokens': 9, 'prompt_tokens': 316, 'total_tokens': 325}, 'model_name': 'gpt-3.5-turbo-0125', 'system_fingerprint': None, 'finish_reason': 'stop', 'logprobs': None}, id='run-f8a231a6-d1dd-40b3-9707-fad171d6784f-0')"
      ]
     },
     "execution_count": 12,
     "metadata": {},
     "output_type": "execute_result"
    }
   ],
   "source": [
    "chain = final_prompt | model\n",
    "\n",
    "ai_message = chain.invoke({\"input\": input, \"post\": input})\n",
    "ai_message\n"
   ]
  },
  {
   "cell_type": "markdown",
   "metadata": {},
   "source": [
    "# Analyze the results"
   ]
  },
  {
   "cell_type": "code",
   "execution_count": 13,
   "metadata": {},
   "outputs": [
    {
     "data": {
      "text/plain": [
       "3.0"
      ]
     },
     "execution_count": 13,
     "metadata": {},
     "output_type": "execute_result"
    }
   ],
   "source": [
    "r = ai_message.content\n",
    "match = re.search(r'\\d+\\.\\d+', r)\n",
    "if match:\n",
    "    response = float(match.group())\n",
    "else:\n",
    "    response = None\n",
    "response"
   ]
  },
  {
   "cell_type": "code",
   "execution_count": 14,
   "metadata": {},
   "outputs": [
    {
     "data": {
      "text/plain": [
       "1.667"
      ]
     },
     "execution_count": 14,
     "metadata": {},
     "output_type": "execute_result"
    }
   ],
   "source": [
    "test.iloc[1]"
   ]
  },
  {
   "cell_type": "code",
   "execution_count": 15,
   "metadata": {},
   "outputs": [],
   "source": [
    "y_pred = []\n",
    "y_true = []\n",
    "y_pred.append(response)\n",
    "y_true.append(test.iloc[1])"
   ]
  },
  {
   "cell_type": "code",
   "execution_count": 16,
   "metadata": {},
   "outputs": [
    {
     "data": {
      "text/plain": [
       "1.776889"
      ]
     },
     "execution_count": 16,
     "metadata": {},
     "output_type": "execute_result"
    }
   ],
   "source": [
    "mse = mean_squared_error(y_true=y_true, y_pred=y_pred)\n",
    "mse"
   ]
  },
  {
   "cell_type": "markdown",
   "metadata": {},
   "source": [
    "# Implementation"
   ]
  },
  {
   "cell_type": "code",
   "execution_count": 24,
   "metadata": {},
   "outputs": [],
   "source": [
    "# functions\n",
    "\n",
    "# get random x posts\n",
    "def create_example_selector(path, post_type, narcism_type, scale_to_int = False):\n",
    "    \n",
    "    df = pd.read_csv(path)\n",
    "    example = df[[post_type,narcism_type]]\n",
    "    example = example.to_dict(orient='records')\n",
    "\n",
    "    # Change the value name\n",
    "    for i in range(len(example)):\n",
    "        example[i]['post'] = example[i].pop(post_type)\n",
    "        if scale_to_int:\n",
    "            example[i]['narcissism'] = int(example[i].pop(narcism_type) * 9)\n",
    "        else:\n",
    "            example[i]['narcissism'] = example[i].pop(narcism_type)\n",
    "\n",
    "\n",
    "    # Create a selector\n",
    "    example_selector = SemanticSimilarityExampleSelector.from_examples(\n",
    "        # This is the list of examples available to select from.\n",
    "        example,\n",
    "        # This is the embedding class used to produce embeddings which are used to measure semantic similarity.\n",
    "        OpenAIEmbeddings(),\n",
    "        # This is the VectorStore class that is used to store the embeddings and do a similarity search over.\n",
    "        Chroma,\n",
    "        # This is the number of examples to produce.\n",
    "        k=number_of_shots,\n",
    "        #what will be the key\n",
    "        input_keys=[\"post\"],\n",
    "    )\n",
    "\n",
    "    return example_selector\n",
    "\n",
    "# create a few shot prompt\n",
    "def create_few_shot_prompt(example_selector):\n",
    "\n",
    "\n",
    "    # This is a prompt template used to format each example.\n",
    "    example_prompt = ChatPromptTemplate.from_messages(\n",
    "        [\n",
    "            (\"human\", \"{post}\"),\n",
    "            (\"ai\", \"narcissism: {narcissism}\"),\n",
    "        ]\n",
    "    )\n",
    "    few_shot_prompt = FewShotChatMessagePromptTemplate(\n",
    "        # Which variable(s) will be passed to the example selector.\n",
    "        input_variables=[\"post\"],\n",
    "        example_selector=example_selector,\n",
    "        example_prompt=example_prompt,\n",
    "    )\n",
    "    \n",
    "    return few_shot_prompt\n",
    "\n",
    "# create a final prompt\n",
    "def create_final_prompt(few_shot_prompt,model_role):\n",
    "\n",
    "    final_prompt = ChatPromptTemplate.from_messages(\n",
    "        [\n",
    "            (\"system\", model_role),\n",
    "            few_shot_prompt,\n",
    "            (\"human\", \"{input}\"),\n",
    "        ]\n",
    "    )\n",
    "    return final_prompt\n",
    "\n",
    "# get float number from a string\n",
    "def get_float(text):\n",
    "    # Use regular expression to find numerical value\n",
    "    match = re.search(r'\\d+\\.\\d+', text)\n",
    "    if match:\n",
    "        float_number = float(match.group())\n",
    "        if float_number is not None:\n",
    "            return float_number\n",
    "        else:\n",
    "            print(f\"Wrong input: {text}\")\n",
    "    else:\n",
    "        return None\n",
    "\n",
    "# get the response\n",
    "def get_response(final_prompt, model, input):\n",
    "    chain = final_prompt | model\n",
    "    ai_message = chain.invoke({\"input\": input, \"post\": input})\n",
    "    response = ai_message.content\n",
    "    return response\n",
    "\n",
    "# get the mean squared error\n",
    "def get_mse(y_pred, y_true):\n",
    "    mse = mean_squared_error(y_true=y_true, y_pred=y_pred)\n",
    "    return mse"
   ]
  },
  {
   "cell_type": "markdown",
   "metadata": {},
   "source": [
    "Add Neptune experiment observation"
   ]
  },
  {
   "cell_type": "code",
   "execution_count": 27,
   "metadata": {},
   "outputs": [
    {
     "ename": "NeptuneInvalidApiTokenException",
     "evalue": "\n\n----NeptuneInvalidApiTokenException------------------------------------------------\n\nThe provided API token is invalid.\nMake sure you copied and provided your API token correctly.\n\nYou can get it or check if it is correct here:\n    - https://app.neptune.ai/get_my_api_token\n\nThere are two options to add it:\n    - specify it in your code\n    - set it as an environment variable in your operating system.\n\nCODE\nPass the token to the init_run() function via the api_token argument:\n    neptune.init_run(project='WORKSPACE_NAME/PROJECT_NAME', api_token='YOUR_API_TOKEN')\n\nENVIRONMENT VARIABLE (Recommended option)\nor export or set an environment variable depending on your operating system:\n\n    Linux/Unix\n    In your terminal run:\n        export NEPTUNE_API_TOKEN=\"YOUR_API_TOKEN\"\n\n    Windows\n    In your CMD run:\n        set NEPTUNE_API_TOKEN=\"YOUR_API_TOKEN\"\n\nand skip the api_token argument of the init_run() function:\n    neptune.init_run(project='WORKSPACE_NAME/PROJECT_NAME')\n\nYou may also want to check the following docs page:\n    - https://docs.neptune.ai/setup/setting_api_token/\n\nNeed help?-> https://docs.neptune.ai/getting_help\n",
     "output_type": "error",
     "traceback": [
      "\u001b[1;31m---------------------------------------------------------------------------\u001b[0m",
      "\u001b[1;31mJSONDecodeError\u001b[0m                           Traceback (most recent call last)",
      "File \u001b[1;32mc:\\Users\\Old\\.conda\\envs\\myenv\\Lib\\site-packages\\neptune\\internal\\credentials.py:68\u001b[0m, in \u001b[0;36mCredentials._api_token_to_dict\u001b[1;34m(api_token)\u001b[0m\n\u001b[0;32m     67\u001b[0m \u001b[38;5;28;01mtry\u001b[39;00m:\n\u001b[1;32m---> 68\u001b[0m     \u001b[38;5;28;01mreturn\u001b[39;00m \u001b[43mjson\u001b[49m\u001b[38;5;241;43m.\u001b[39;49m\u001b[43mloads\u001b[49m\u001b[43m(\u001b[49m\u001b[43mbase64\u001b[49m\u001b[38;5;241;43m.\u001b[39;49m\u001b[43mb64decode\u001b[49m\u001b[43m(\u001b[49m\u001b[43mapi_token\u001b[49m\u001b[38;5;241;43m.\u001b[39;49m\u001b[43mencode\u001b[49m\u001b[43m(\u001b[49m\u001b[43m)\u001b[49m\u001b[43m)\u001b[49m\u001b[38;5;241;43m.\u001b[39;49m\u001b[43mdecode\u001b[49m\u001b[43m(\u001b[49m\u001b[38;5;124;43m\"\u001b[39;49m\u001b[38;5;124;43mutf-8\u001b[39;49m\u001b[38;5;124;43m\"\u001b[39;49m\u001b[43m)\u001b[49m\u001b[43m)\u001b[49m\n\u001b[0;32m     69\u001b[0m \u001b[38;5;28;01mexcept\u001b[39;00m \u001b[38;5;167;01mException\u001b[39;00m:\n",
      "File \u001b[1;32mc:\\Users\\Old\\.conda\\envs\\myenv\\Lib\\json\\__init__.py:346\u001b[0m, in \u001b[0;36mloads\u001b[1;34m(s, cls, object_hook, parse_float, parse_int, parse_constant, object_pairs_hook, **kw)\u001b[0m\n\u001b[0;32m    343\u001b[0m \u001b[38;5;28;01mif\u001b[39;00m (\u001b[38;5;28mcls\u001b[39m \u001b[38;5;129;01mis\u001b[39;00m \u001b[38;5;28;01mNone\u001b[39;00m \u001b[38;5;129;01mand\u001b[39;00m object_hook \u001b[38;5;129;01mis\u001b[39;00m \u001b[38;5;28;01mNone\u001b[39;00m \u001b[38;5;129;01mand\u001b[39;00m\n\u001b[0;32m    344\u001b[0m         parse_int \u001b[38;5;129;01mis\u001b[39;00m \u001b[38;5;28;01mNone\u001b[39;00m \u001b[38;5;129;01mand\u001b[39;00m parse_float \u001b[38;5;129;01mis\u001b[39;00m \u001b[38;5;28;01mNone\u001b[39;00m \u001b[38;5;129;01mand\u001b[39;00m\n\u001b[0;32m    345\u001b[0m         parse_constant \u001b[38;5;129;01mis\u001b[39;00m \u001b[38;5;28;01mNone\u001b[39;00m \u001b[38;5;129;01mand\u001b[39;00m object_pairs_hook \u001b[38;5;129;01mis\u001b[39;00m \u001b[38;5;28;01mNone\u001b[39;00m \u001b[38;5;129;01mand\u001b[39;00m \u001b[38;5;129;01mnot\u001b[39;00m kw):\n\u001b[1;32m--> 346\u001b[0m     \u001b[38;5;28;01mreturn\u001b[39;00m \u001b[43m_default_decoder\u001b[49m\u001b[38;5;241;43m.\u001b[39;49m\u001b[43mdecode\u001b[49m\u001b[43m(\u001b[49m\u001b[43ms\u001b[49m\u001b[43m)\u001b[49m\n\u001b[0;32m    347\u001b[0m \u001b[38;5;28;01mif\u001b[39;00m \u001b[38;5;28mcls\u001b[39m \u001b[38;5;129;01mis\u001b[39;00m \u001b[38;5;28;01mNone\u001b[39;00m:\n",
      "File \u001b[1;32mc:\\Users\\Old\\.conda\\envs\\myenv\\Lib\\json\\decoder.py:337\u001b[0m, in \u001b[0;36mJSONDecoder.decode\u001b[1;34m(self, s, _w)\u001b[0m\n\u001b[0;32m    333\u001b[0m \u001b[38;5;250m\u001b[39m\u001b[38;5;124;03m\"\"\"Return the Python representation of ``s`` (a ``str`` instance\u001b[39;00m\n\u001b[0;32m    334\u001b[0m \u001b[38;5;124;03mcontaining a JSON document).\u001b[39;00m\n\u001b[0;32m    335\u001b[0m \n\u001b[0;32m    336\u001b[0m \u001b[38;5;124;03m\"\"\"\u001b[39;00m\n\u001b[1;32m--> 337\u001b[0m obj, end \u001b[38;5;241m=\u001b[39m \u001b[38;5;28;43mself\u001b[39;49m\u001b[38;5;241;43m.\u001b[39;49m\u001b[43mraw_decode\u001b[49m\u001b[43m(\u001b[49m\u001b[43ms\u001b[49m\u001b[43m,\u001b[49m\u001b[43m \u001b[49m\u001b[43midx\u001b[49m\u001b[38;5;241;43m=\u001b[39;49m\u001b[43m_w\u001b[49m\u001b[43m(\u001b[49m\u001b[43ms\u001b[49m\u001b[43m,\u001b[49m\u001b[43m \u001b[49m\u001b[38;5;241;43m0\u001b[39;49m\u001b[43m)\u001b[49m\u001b[38;5;241;43m.\u001b[39;49m\u001b[43mend\u001b[49m\u001b[43m(\u001b[49m\u001b[43m)\u001b[49m\u001b[43m)\u001b[49m\n\u001b[0;32m    338\u001b[0m end \u001b[38;5;241m=\u001b[39m _w(s, end)\u001b[38;5;241m.\u001b[39mend()\n",
      "File \u001b[1;32mc:\\Users\\Old\\.conda\\envs\\myenv\\Lib\\json\\decoder.py:355\u001b[0m, in \u001b[0;36mJSONDecoder.raw_decode\u001b[1;34m(self, s, idx)\u001b[0m\n\u001b[0;32m    354\u001b[0m \u001b[38;5;28;01mexcept\u001b[39;00m \u001b[38;5;167;01mStopIteration\u001b[39;00m \u001b[38;5;28;01mas\u001b[39;00m err:\n\u001b[1;32m--> 355\u001b[0m     \u001b[38;5;28;01mraise\u001b[39;00m JSONDecodeError(\u001b[38;5;124m\"\u001b[39m\u001b[38;5;124mExpecting value\u001b[39m\u001b[38;5;124m\"\u001b[39m, s, err\u001b[38;5;241m.\u001b[39mvalue) \u001b[38;5;28;01mfrom\u001b[39;00m \u001b[38;5;28;01mNone\u001b[39;00m\n\u001b[0;32m    356\u001b[0m \u001b[38;5;28;01mreturn\u001b[39;00m obj, end\n",
      "\u001b[1;31mJSONDecodeError\u001b[0m: Expecting value: line 1 column 1 (char 0)",
      "\nDuring handling of the above exception, another exception occurred:\n",
      "\u001b[1;31mNeptuneInvalidApiTokenException\u001b[0m           Traceback (most recent call last)",
      "Cell \u001b[1;32mIn[27], line 2\u001b[0m\n\u001b[0;32m      1\u001b[0m \u001b[38;5;66;03m# Run the functions\u001b[39;00m\n\u001b[1;32m----> 2\u001b[0m run \u001b[38;5;241m=\u001b[39m \u001b[43mneptune\u001b[49m\u001b[38;5;241;43m.\u001b[39;49m\u001b[43minit_run\u001b[49m\u001b[43m(\u001b[49m\u001b[43mproject\u001b[49m\u001b[43m \u001b[49m\u001b[38;5;241;43m=\u001b[39;49m\u001b[43m \u001b[49m\u001b[43mos\u001b[49m\u001b[38;5;241;43m.\u001b[39;49m\u001b[43mgetenv\u001b[49m\u001b[43m(\u001b[49m\u001b[38;5;124;43m'\u001b[39;49m\u001b[38;5;124;43mNEPTUNE_PROJECT\u001b[39;49m\u001b[38;5;124;43m'\u001b[39;49m\u001b[43m)\u001b[49m\u001b[43m,\u001b[49m\n\u001b[0;32m      3\u001b[0m \u001b[43m                       \u001b[49m\u001b[43mapi_token\u001b[49m\u001b[43m \u001b[49m\u001b[38;5;241;43m=\u001b[39;49m\u001b[43m \u001b[49m\u001b[43mos\u001b[49m\u001b[38;5;241;43m.\u001b[39;49m\u001b[43mgetenv\u001b[49m\u001b[43m(\u001b[49m\u001b[38;5;124;43m'\u001b[39;49m\u001b[38;5;124;43mNEPTUNE_API_TOKEN\u001b[39;49m\u001b[38;5;124;43m'\u001b[39;49m\u001b[43m)\u001b[49m\u001b[43m,\u001b[49m\n\u001b[0;32m      4\u001b[0m \u001b[43m                       \u001b[49m\u001b[43msource_files\u001b[49m\u001b[38;5;241;43m=\u001b[39;49m\u001b[43m[\u001b[49m\u001b[38;5;124;43m\"\u001b[39;49m\u001b[38;5;124;43mfew_shot_test_RAG_crewai.ipynb\u001b[39;49m\u001b[38;5;124;43m\"\u001b[39;49m\u001b[43m]\u001b[49m\u001b[43m,\u001b[49m\n\u001b[0;32m      5\u001b[0m \u001b[43m                       \u001b[49m\u001b[43mtags\u001b[49m\u001b[38;5;241;43m=\u001b[39;49m\u001b[43m[\u001b[49m\u001b[38;5;124;43m\"\u001b[39;49m\u001b[38;5;124;43mfew-shot-RAG\u001b[39;49m\u001b[38;5;124;43m\"\u001b[39;49m\u001b[43m,\u001b[49m\u001b[43m \u001b[49m\u001b[43mnarcism_type\u001b[49m\u001b[43m,\u001b[49m\u001b[43m \u001b[49m\u001b[43mpost_type\u001b[49m\u001b[43m]\u001b[49m\u001b[43m)\u001b[49m\n\u001b[0;32m      7\u001b[0m run[\u001b[38;5;124m\"\u001b[39m\u001b[38;5;124mtype\u001b[39m\u001b[38;5;124m\"\u001b[39m] \u001b[38;5;241m=\u001b[39m \u001b[38;5;124m\"\u001b[39m\u001b[38;5;124mFew-shot learning\u001b[39m\u001b[38;5;124m\"\u001b[39m\n\u001b[0;32m      8\u001b[0m params \u001b[38;5;241m=\u001b[39m {\n\u001b[0;32m      9\u001b[0m     \u001b[38;5;124m\"\u001b[39m\u001b[38;5;124mmodel\u001b[39m\u001b[38;5;124m\"\u001b[39m: model_used,\n\u001b[0;32m     10\u001b[0m     \u001b[38;5;124m\"\u001b[39m\u001b[38;5;124mnarc_type\u001b[39m\u001b[38;5;124m\"\u001b[39m: narcism_type,\n\u001b[1;32m   (...)\u001b[0m\n\u001b[0;32m     13\u001b[0m     \u001b[38;5;124m\"\u001b[39m\u001b[38;5;124mshots\u001b[39m\u001b[38;5;124m\"\u001b[39m: number_of_shots\n\u001b[0;32m     14\u001b[0m }\n",
      "File \u001b[1;32mc:\\Users\\Old\\.conda\\envs\\myenv\\Lib\\site-packages\\neptune\\metadata_containers\\run.py:410\u001b[0m, in \u001b[0;36mRun.__init__\u001b[1;34m(self, with_id, project, api_token, custom_run_id, mode, name, description, tags, source_files, capture_stdout, capture_stderr, capture_hardware_metrics, fail_on_exception, monitoring_namespace, flush_period, proxies, capture_traceback, git_ref, dependencies, async_lag_callback, async_lag_threshold, async_no_progress_callback, async_no_progress_threshold, **kwargs)\u001b[0m\n\u001b[0;32m    407\u001b[0m \u001b[38;5;28;01mif\u001b[39;00m mode \u001b[38;5;241m==\u001b[39m Mode\u001b[38;5;241m.\u001b[39mOFFLINE \u001b[38;5;129;01mor\u001b[39;00m mode \u001b[38;5;241m==\u001b[39m Mode\u001b[38;5;241m.\u001b[39mDEBUG:\n\u001b[0;32m    408\u001b[0m     project \u001b[38;5;241m=\u001b[39m OFFLINE_PROJECT_QUALIFIED_NAME\n\u001b[1;32m--> 410\u001b[0m \u001b[38;5;28;43msuper\u001b[39;49m\u001b[43m(\u001b[49m\u001b[43m)\u001b[49m\u001b[38;5;241;43m.\u001b[39;49m\u001b[38;5;21;43m__init__\u001b[39;49m\u001b[43m(\u001b[49m\n\u001b[0;32m    411\u001b[0m \u001b[43m    \u001b[49m\u001b[43mproject\u001b[49m\u001b[38;5;241;43m=\u001b[39;49m\u001b[43mproject\u001b[49m\u001b[43m,\u001b[49m\n\u001b[0;32m    412\u001b[0m \u001b[43m    \u001b[49m\u001b[43mapi_token\u001b[49m\u001b[38;5;241;43m=\u001b[39;49m\u001b[43mapi_token\u001b[49m\u001b[43m,\u001b[49m\n\u001b[0;32m    413\u001b[0m \u001b[43m    \u001b[49m\u001b[43mmode\u001b[49m\u001b[38;5;241;43m=\u001b[39;49m\u001b[43mmode\u001b[49m\u001b[43m,\u001b[49m\n\u001b[0;32m    414\u001b[0m \u001b[43m    \u001b[49m\u001b[43mflush_period\u001b[49m\u001b[38;5;241;43m=\u001b[39;49m\u001b[43mflush_period\u001b[49m\u001b[43m,\u001b[49m\n\u001b[0;32m    415\u001b[0m \u001b[43m    \u001b[49m\u001b[43mproxies\u001b[49m\u001b[38;5;241;43m=\u001b[39;49m\u001b[43mproxies\u001b[49m\u001b[43m,\u001b[49m\n\u001b[0;32m    416\u001b[0m \u001b[43m    \u001b[49m\u001b[43masync_lag_callback\u001b[49m\u001b[38;5;241;43m=\u001b[39;49m\u001b[43masync_lag_callback\u001b[49m\u001b[43m,\u001b[49m\n\u001b[0;32m    417\u001b[0m \u001b[43m    \u001b[49m\u001b[43masync_lag_threshold\u001b[49m\u001b[38;5;241;43m=\u001b[39;49m\u001b[43masync_lag_threshold\u001b[49m\u001b[43m,\u001b[49m\n\u001b[0;32m    418\u001b[0m \u001b[43m    \u001b[49m\u001b[43masync_no_progress_callback\u001b[49m\u001b[38;5;241;43m=\u001b[39;49m\u001b[43masync_no_progress_callback\u001b[49m\u001b[43m,\u001b[49m\n\u001b[0;32m    419\u001b[0m \u001b[43m    \u001b[49m\u001b[43masync_no_progress_threshold\u001b[49m\u001b[38;5;241;43m=\u001b[39;49m\u001b[43masync_no_progress_threshold\u001b[49m\u001b[43m,\u001b[49m\n\u001b[0;32m    420\u001b[0m \u001b[43m\u001b[49m\u001b[43m)\u001b[49m\n",
      "File \u001b[1;32mc:\\Users\\Old\\.conda\\envs\\myenv\\Lib\\site-packages\\neptune\\metadata_containers\\metadata_container.py:160\u001b[0m, in \u001b[0;36mMetadataContainer.__init__\u001b[1;34m(self, project, api_token, mode, flush_period, proxies, async_lag_callback, async_lag_threshold, async_no_progress_callback, async_no_progress_threshold)\u001b[0m\n\u001b[0;32m    157\u001b[0m \u001b[38;5;28mself\u001b[39m\u001b[38;5;241m.\u001b[39m_signals_queue: \u001b[38;5;124m\"\u001b[39m\u001b[38;5;124mQueue[Signal]\u001b[39m\u001b[38;5;124m\"\u001b[39m \u001b[38;5;241m=\u001b[39m Queue()\n\u001b[0;32m    158\u001b[0m \u001b[38;5;28mself\u001b[39m\u001b[38;5;241m.\u001b[39m_logger: logging\u001b[38;5;241m.\u001b[39mLogger \u001b[38;5;241m=\u001b[39m get_logger()\n\u001b[1;32m--> 160\u001b[0m \u001b[38;5;28mself\u001b[39m\u001b[38;5;241m.\u001b[39m_backend: NeptuneBackend \u001b[38;5;241m=\u001b[39m \u001b[43mget_backend\u001b[49m\u001b[43m(\u001b[49m\u001b[43mmode\u001b[49m\u001b[38;5;241;43m=\u001b[39;49m\u001b[43mmode\u001b[49m\u001b[43m,\u001b[49m\u001b[43m \u001b[49m\u001b[43mapi_token\u001b[49m\u001b[38;5;241;43m=\u001b[39;49m\u001b[43mapi_token\u001b[49m\u001b[43m,\u001b[49m\u001b[43m \u001b[49m\u001b[43mproxies\u001b[49m\u001b[38;5;241;43m=\u001b[39;49m\u001b[43mproxies\u001b[49m\u001b[43m)\u001b[49m\n\u001b[0;32m    162\u001b[0m \u001b[38;5;28mself\u001b[39m\u001b[38;5;241m.\u001b[39m_project_qualified_name: Optional[\u001b[38;5;28mstr\u001b[39m] \u001b[38;5;241m=\u001b[39m conform_optional(project, QualifiedName)\n\u001b[0;32m    163\u001b[0m \u001b[38;5;28mself\u001b[39m\u001b[38;5;241m.\u001b[39m_project_api_object: Project \u001b[38;5;241m=\u001b[39m project_name_lookup(\n\u001b[0;32m    164\u001b[0m     backend\u001b[38;5;241m=\u001b[39m\u001b[38;5;28mself\u001b[39m\u001b[38;5;241m.\u001b[39m_backend, name\u001b[38;5;241m=\u001b[39m\u001b[38;5;28mself\u001b[39m\u001b[38;5;241m.\u001b[39m_project_qualified_name\n\u001b[0;32m    165\u001b[0m )\n",
      "File \u001b[1;32mc:\\Users\\Old\\.conda\\envs\\myenv\\Lib\\site-packages\\neptune\\internal\\backends\\factory.py:31\u001b[0m, in \u001b[0;36mget_backend\u001b[1;34m(mode, api_token, proxies)\u001b[0m\n\u001b[0;32m     29\u001b[0m \u001b[38;5;28;01mdef\u001b[39;00m \u001b[38;5;21mget_backend\u001b[39m(mode: Mode, api_token: Optional[\u001b[38;5;28mstr\u001b[39m] \u001b[38;5;241m=\u001b[39m \u001b[38;5;28;01mNone\u001b[39;00m, proxies: Optional[\u001b[38;5;28mdict\u001b[39m] \u001b[38;5;241m=\u001b[39m \u001b[38;5;28;01mNone\u001b[39;00m) \u001b[38;5;241m-\u001b[39m\u001b[38;5;241m>\u001b[39m NeptuneBackend:\n\u001b[0;32m     30\u001b[0m     \u001b[38;5;28;01mif\u001b[39;00m mode \u001b[38;5;241m==\u001b[39m Mode\u001b[38;5;241m.\u001b[39mASYNC:\n\u001b[1;32m---> 31\u001b[0m         \u001b[38;5;28;01mreturn\u001b[39;00m HostedNeptuneBackend(credentials\u001b[38;5;241m=\u001b[39m\u001b[43mCredentials\u001b[49m\u001b[38;5;241;43m.\u001b[39;49m\u001b[43mfrom_token\u001b[49m\u001b[43m(\u001b[49m\u001b[43mapi_token\u001b[49m\u001b[38;5;241;43m=\u001b[39;49m\u001b[43mapi_token\u001b[49m\u001b[43m)\u001b[49m, proxies\u001b[38;5;241m=\u001b[39mproxies)\n\u001b[0;32m     32\u001b[0m     \u001b[38;5;28;01melif\u001b[39;00m mode \u001b[38;5;241m==\u001b[39m Mode\u001b[38;5;241m.\u001b[39mSYNC:\n\u001b[0;32m     33\u001b[0m         \u001b[38;5;28;01mreturn\u001b[39;00m HostedNeptuneBackend(credentials\u001b[38;5;241m=\u001b[39mCredentials\u001b[38;5;241m.\u001b[39mfrom_token(api_token\u001b[38;5;241m=\u001b[39mapi_token), proxies\u001b[38;5;241m=\u001b[39mproxies)\n",
      "File \u001b[1;32mc:\\Users\\Old\\.conda\\envs\\myenv\\Lib\\site-packages\\neptune\\internal\\credentials.py:52\u001b[0m, in \u001b[0;36mCredentials.from_token\u001b[1;34m(cls, api_token)\u001b[0m\n\u001b[0;32m     49\u001b[0m     \u001b[38;5;28;01mraise\u001b[39;00m NeptuneMissingApiTokenException()\n\u001b[0;32m     51\u001b[0m api_token \u001b[38;5;241m=\u001b[39m api_token\u001b[38;5;241m.\u001b[39mstrip()\n\u001b[1;32m---> 52\u001b[0m token_dict \u001b[38;5;241m=\u001b[39m \u001b[43mCredentials\u001b[49m\u001b[38;5;241;43m.\u001b[39;49m\u001b[43m_api_token_to_dict\u001b[49m\u001b[43m(\u001b[49m\u001b[43mapi_token\u001b[49m\u001b[43m)\u001b[49m\n\u001b[0;32m     53\u001b[0m \u001b[38;5;66;03m# TODO: Consider renaming 'api_address' (breaking backward compatibility)\u001b[39;00m\n\u001b[0;32m     54\u001b[0m \u001b[38;5;28;01mif\u001b[39;00m \u001b[38;5;124m\"\u001b[39m\u001b[38;5;124mapi_address\u001b[39m\u001b[38;5;124m\"\u001b[39m \u001b[38;5;129;01mnot\u001b[39;00m \u001b[38;5;129;01min\u001b[39;00m token_dict:\n",
      "File \u001b[1;32mc:\\Users\\Old\\.conda\\envs\\myenv\\Lib\\site-packages\\neptune\\internal\\credentials.py:70\u001b[0m, in \u001b[0;36mCredentials._api_token_to_dict\u001b[1;34m(api_token)\u001b[0m\n\u001b[0;32m     68\u001b[0m     \u001b[38;5;28;01mreturn\u001b[39;00m json\u001b[38;5;241m.\u001b[39mloads(base64\u001b[38;5;241m.\u001b[39mb64decode(api_token\u001b[38;5;241m.\u001b[39mencode())\u001b[38;5;241m.\u001b[39mdecode(\u001b[38;5;124m\"\u001b[39m\u001b[38;5;124mutf-8\u001b[39m\u001b[38;5;124m\"\u001b[39m))\n\u001b[0;32m     69\u001b[0m \u001b[38;5;28;01mexcept\u001b[39;00m \u001b[38;5;167;01mException\u001b[39;00m:\n\u001b[1;32m---> 70\u001b[0m     \u001b[38;5;28;01mraise\u001b[39;00m NeptuneInvalidApiTokenException()\n",
      "\u001b[1;31mNeptuneInvalidApiTokenException\u001b[0m: \n\n----NeptuneInvalidApiTokenException------------------------------------------------\n\nThe provided API token is invalid.\nMake sure you copied and provided your API token correctly.\n\nYou can get it or check if it is correct here:\n    - https://app.neptune.ai/get_my_api_token\n\nThere are two options to add it:\n    - specify it in your code\n    - set it as an environment variable in your operating system.\n\nCODE\nPass the token to the init_run() function via the api_token argument:\n    neptune.init_run(project='WORKSPACE_NAME/PROJECT_NAME', api_token='YOUR_API_TOKEN')\n\nENVIRONMENT VARIABLE (Recommended option)\nor export or set an environment variable depending on your operating system:\n\n    Linux/Unix\n    In your terminal run:\n        export NEPTUNE_API_TOKEN=\"YOUR_API_TOKEN\"\n\n    Windows\n    In your CMD run:\n        set NEPTUNE_API_TOKEN=\"YOUR_API_TOKEN\"\n\nand skip the api_token argument of the init_run() function:\n    neptune.init_run(project='WORKSPACE_NAME/PROJECT_NAME')\n\nYou may also want to check the following docs page:\n    - https://docs.neptune.ai/setup/setting_api_token/\n\nNeed help?-> https://docs.neptune.ai/getting_help\n"
     ]
    }
   ],
   "source": [
    "# Run the functions\n",
    "run = neptune.init_run(project = os.getenv('NEPTUNE_PROJECT'),\n",
    "                       api_token = os.getenv('NEPTUNE_API_TOKEN'),\n",
    "                       source_files=[\"few_shot_test_RAG_crewai.ipynb\"],\n",
    "                       tags=[\"few-shot-RAG\", narcism_type, post_type])\n",
    "\n",
    "run[\"type\"] = \"Few-shot learning\"\n",
    "params = {\n",
    "    \"model\": model_used,\n",
    "    \"narc_type\": narcism_type,\n",
    "    \"post_type\": post_type,\n",
    "    \"prompt\": model_role,\n",
    "    \"shots\": number_of_shots,\n",
    "    \"scale_to_int\": scale_to_int\n",
    "}\n",
    "run[\"model/parameters\"] = params # Save the parameters\n",
    "\n",
    "y_pred = []\n",
    "y_true = []\n",
    "\n",
    "test_df = pd.read_csv(validate_path)\n",
    "testset = test_df[[post_type,narcism_type]]\n",
    "\n",
    "problems = []\n",
    "example_selector = create_example_selector(train_path, post_type, narcism_type, scale_to_int= scale_to_int)\n",
    "few_shot_prompt = create_few_shot_prompt(example_selector) \n",
    "for i in range(test.shape[0]):\n",
    "    input = testset.iloc[i]\n",
    "    final_prompt = create_final_prompt(few_shot_prompt,model_role)\n",
    "    response_str = get_response(final_prompt, model, input.get(post_type))\n",
    "    response = get_float(response_str)\n",
    "\n",
    "    if response is not None: # Check if the model returned a number\n",
    "        y_pred.append(response)\n",
    "        if scale_to_int:\n",
    "            y_true.append(int(input.get(narcism_type)*9))\n",
    "        else:\n",
    "            y_true.append(input.get(narcism_type))\n",
    "    else: # Else save the prompt that caused the error\n",
    "        row_to_add = {'post': input.get(post_type), 'post_type': post_type, 'model_role': model_role, 'date': pd.Timestamp.now()}\n",
    "        problems.append(row_to_add)\n",
    "\n",
    "\n",
    "mse = get_mse(y_pred, y_true) # Calculate the mean squared error\n",
    "print(mse)\n",
    "run[\"mse\"] = mse\n",
    "run.stop() # Stop the run"
   ]
  },
  {
   "cell_type": "code",
   "execution_count": 68,
   "metadata": {},
   "outputs": [
    {
     "data": {
      "text/plain": [
       "[]"
      ]
     },
     "execution_count": 68,
     "metadata": {},
     "output_type": "execute_result"
    }
   ],
   "source": [
    "# Make a dataframe of the problems\n",
    "problems_df = pd.DataFrame(problems)\n",
    "problems_df.to_csv(\"../data/responses/few_shot.csv\", mode='a', index=False, header=False)\n",
    "\n",
    "problems"
   ]
  },
  {
   "cell_type": "code",
   "execution_count": null,
   "metadata": {},
   "outputs": [],
   "source": []
  }
 ],
 "metadata": {
  "kernelspec": {
   "display_name": "narc-twitter",
   "language": "python",
   "name": "python3"
  },
  "language_info": {
   "codemirror_mode": {
    "name": "ipython",
    "version": 3
   },
   "file_extension": ".py",
   "mimetype": "text/x-python",
   "name": "python",
   "nbconvert_exporter": "python",
   "pygments_lexer": "ipython3",
   "version": "3.11.9"
  }
 },
 "nbformat": 4,
 "nbformat_minor": 2
}

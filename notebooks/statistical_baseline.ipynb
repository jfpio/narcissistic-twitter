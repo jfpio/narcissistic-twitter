{
 "cells": [
  {
   "cell_type": "markdown",
   "metadata": {},
   "source": [
    "# Statistical baseline\n",
    "This notebook is calculating the statistical baselines. It takes mean as a predicted value and checks the results. The measures in questions are: RMSE, MAE, MaxAE, Huber Loss(q=1), Quantile loss(q=0.5). Both are calculated for a full test dataset. TL;DR: What is the score if we just give the mean as a prediction? \n",
    "\n",
    "Results for travel and abortion posts (they are the same)\n",
    "|measure|adm|riv|\n",
    "|-----|----|---|\n",
    "|MAE|0.88|0.62|\n",
    "|MaxAE|2.49|2.54|\n",
    "|Huber Loss|0.49|0.27|\n",
    "|Quantile Loss|0.44|0.31|\n",
    "|RMSE|1.07|0.79|\n",
    "\n",
    "Results for ai\n",
    "|measure|adm|riv|\n",
    "|-----|----|---|\n",
    "|MAE|0.92|0.62|\n",
    "|MaxAE|2.38|2.55|\n",
    "|Huber Loss|0.53|0.28|\n",
    "|Quantile Loss|0.46|0.31|\n",
    "|RMSE|1.10| 0.81|\n"
   ]
  },
  {
   "cell_type": "code",
   "execution_count": 30,
   "metadata": {},
   "outputs": [],
   "source": [
    "import numpy as np\n",
    "import matplotlib.pyplot as plt\n",
    "import pandas as pd\n",
    "import seaborn as sns\n",
    "from sklearn.metrics import mean_absolute_error\n",
    "from sklearn.metrics import root_mean_squared_error\n",
    "\n",
    "import torch\n",
    "from torch.nn import HuberLoss"
   ]
  },
  {
   "cell_type": "code",
   "execution_count": 31,
   "metadata": {},
   "outputs": [],
   "source": [
    "path_to_test = '../data/split/full_test.csv'"
   ]
  },
  {
   "cell_type": "code",
   "execution_count": 32,
   "metadata": {},
   "outputs": [
    {
     "data": {
      "text/html": [
       "<div>\n",
       "<style scoped>\n",
       "    .dataframe tbody tr th:only-of-type {\n",
       "        vertical-align: middle;\n",
       "    }\n",
       "\n",
       "    .dataframe tbody tr th {\n",
       "        vertical-align: top;\n",
       "    }\n",
       "\n",
       "    .dataframe thead th {\n",
       "        text-align: right;\n",
       "    }\n",
       "</style>\n",
       "<table border=\"1\" class=\"dataframe\">\n",
       "  <thead>\n",
       "    <tr style=\"text-align: right;\">\n",
       "      <th></th>\n",
       "      <th>post_travel</th>\n",
       "      <th>adm</th>\n",
       "      <th>riv</th>\n",
       "    </tr>\n",
       "  </thead>\n",
       "  <tbody>\n",
       "    <tr>\n",
       "      <th>0</th>\n",
       "      <td>Next stop-HAWAII!!</td>\n",
       "      <td>4.667</td>\n",
       "      <td>3.000</td>\n",
       "    </tr>\n",
       "    <tr>\n",
       "      <th>1</th>\n",
       "      <td>I recently traveled to fall creek falls and it...</td>\n",
       "      <td>3.778</td>\n",
       "      <td>1.778</td>\n",
       "    </tr>\n",
       "    <tr>\n",
       "      <th>2</th>\n",
       "      <td>Just got back from FIJI it was amazing!!</td>\n",
       "      <td>2.333</td>\n",
       "      <td>2.000</td>\n",
       "    </tr>\n",
       "    <tr>\n",
       "      <th>3</th>\n",
       "      <td>Recently got back from an amazing trip in Japa...</td>\n",
       "      <td>5.222</td>\n",
       "      <td>3.000</td>\n",
       "    </tr>\n",
       "    <tr>\n",
       "      <th>4</th>\n",
       "      <td>I went to Italy and it was amazing! Sorrento s...</td>\n",
       "      <td>2.000</td>\n",
       "      <td>3.111</td>\n",
       "    </tr>\n",
       "  </tbody>\n",
       "</table>\n",
       "</div>"
      ],
      "text/plain": [
       "                                         post_travel    adm    riv\n",
       "0                                 Next stop-HAWAII!!  4.667  3.000\n",
       "1  I recently traveled to fall creek falls and it...  3.778  1.778\n",
       "2           Just got back from FIJI it was amazing!!  2.333  2.000\n",
       "3  Recently got back from an amazing trip in Japa...  5.222  3.000\n",
       "4  I went to Italy and it was amazing! Sorrento s...  2.000  3.111"
      ]
     },
     "execution_count": 32,
     "metadata": {},
     "output_type": "execute_result"
    }
   ],
   "source": [
    "# load the test data\n",
    "test_data = pd.read_csv(path_to_test)\n",
    "test_data[['post_travel','adm','riv']].head()"
   ]
  },
  {
   "cell_type": "code",
   "execution_count": 33,
   "metadata": {},
   "outputs": [],
   "source": [
    "# inictialize the huber loss\n",
    "huber_loss = HuberLoss(delta=1.0)"
   ]
  },
  {
   "cell_type": "code",
   "execution_count": 34,
   "metadata": {},
   "outputs": [],
   "source": [
    "# define the quantile loss\n",
    "def quantile_loss(y_true: torch.Tensor, y_pred: torch.Tensor, quantile=0.5):\n",
    "    error = y_true - y_pred\n",
    "    return torch.mean(torch.max(quantile * error, (quantile - 1) * error))"
   ]
  },
  {
   "cell_type": "markdown",
   "metadata": {},
   "source": [
    "## Travel and abortion posts\n",
    "### Narcissistic Admiration"
   ]
  },
  {
   "cell_type": "code",
   "execution_count": 37,
   "metadata": {},
   "outputs": [],
   "source": [
    "# get the mean of the adm column\n",
    "mean_adm_tensor = np.full(test_data.shape[0], np.mean(test_data['adm']))"
   ]
  },
  {
   "cell_type": "code",
   "execution_count": 38,
   "metadata": {},
   "outputs": [
    {
     "name": "stdout",
     "output_type": "stream",
     "text": [
      "MAE: 0.8830683902524239\n"
     ]
    }
   ],
   "source": [
    "# calculate the mean absolute error\n",
    "adm_mae = mean_absolute_error(test_data['adm'], mean_adm_tensor)\n",
    "print(f'MAE: {adm_mae}')"
   ]
  },
  {
   "cell_type": "code",
   "execution_count": 39,
   "metadata": {},
   "outputs": [
    {
     "name": "stdout",
     "output_type": "stream",
     "text": [
      "MAXAE: 2.4863177570093455\n"
     ]
    }
   ],
   "source": [
    "adm_maxae = np.max(np.abs(test_data['adm'] - mean_adm_tensor))\n",
    "print(f'MAXAE: {adm_maxae}')"
   ]
  },
  {
   "cell_type": "code",
   "execution_count": 40,
   "metadata": {},
   "outputs": [
    {
     "name": "stdout",
     "output_type": "stream",
     "text": [
      "Huber Loss: 0.49352194411053324\n"
     ]
    }
   ],
   "source": [
    "adm_huber_loss_score = huber_loss(torch.tensor(test_data['adm'].values), \n",
    "                                  torch.tensor(mean_adm_tensor))\n",
    "\n",
    "print(f'Huber Loss: {adm_huber_loss_score}')"
   ]
  },
  {
   "cell_type": "code",
   "execution_count": 41,
   "metadata": {},
   "outputs": [
    {
     "name": "stdout",
     "output_type": "stream",
     "text": [
      "Quantile Loss: 0.4415341951262118\n"
     ]
    }
   ],
   "source": [
    "adm_quantile_loss_score = quantile_loss(torch.tensor(test_data['adm'].values), \n",
    "                                        torch.tensor(mean_adm_tensor), quantile=0.5)\n",
    "\n",
    "print(f'Quantile Loss: {adm_quantile_loss_score}')"
   ]
  },
  {
   "cell_type": "code",
   "execution_count": 42,
   "metadata": {},
   "outputs": [
    {
     "name": "stdout",
     "output_type": "stream",
     "text": [
      "RMSE: 1.0666058280772832\n"
     ]
    }
   ],
   "source": [
    "# RMSE\n",
    "adm_rmse = root_mean_squared_error(test_data['adm'], mean_adm_tensor)\n",
    "print(f'RMSE: {adm_rmse}')"
   ]
  },
  {
   "cell_type": "markdown",
   "metadata": {},
   "source": [
    "### Narcissistic Rivalry"
   ]
  },
  {
   "cell_type": "code",
   "execution_count": 43,
   "metadata": {},
   "outputs": [],
   "source": [
    "# get the mean of the adm column\n",
    "mean_riv_tensor = np.full(test_data.shape[0], np.mean(test_data['riv']))"
   ]
  },
  {
   "cell_type": "code",
   "execution_count": 44,
   "metadata": {},
   "outputs": [
    {
     "name": "stdout",
     "output_type": "stream",
     "text": [
      "MAE: 0.6216487029434886\n"
     ]
    }
   ],
   "source": [
    "riv_mae = mean_absolute_error(test_data['riv'], mean_riv_tensor)\n",
    "print(f'MAE: {riv_mae}')"
   ]
  },
  {
   "cell_type": "code",
   "execution_count": 45,
   "metadata": {},
   "outputs": [
    {
     "name": "stdout",
     "output_type": "stream",
     "text": [
      "MAXAE: 2.5382429906542057\n"
     ]
    }
   ],
   "source": [
    "riv_maxae = np.max(np.abs(test_data['riv'] - mean_riv_tensor))\n",
    "print(f'MAXAE: {riv_maxae}')"
   ]
  },
  {
   "cell_type": "code",
   "execution_count": 46,
   "metadata": {},
   "outputs": [
    {
     "name": "stdout",
     "output_type": "stream",
     "text": [
      "Huber Loss: 0.2746123445956591\n"
     ]
    }
   ],
   "source": [
    "riv_huber_loss_score = huber_loss(torch.tensor(test_data['riv'].values), \n",
    "                                  torch.tensor(mean_riv_tensor))\n",
    "print(f'Huber Loss: {riv_huber_loss_score}')"
   ]
  },
  {
   "cell_type": "code",
   "execution_count": 47,
   "metadata": {},
   "outputs": [
    {
     "name": "stdout",
     "output_type": "stream",
     "text": [
      "Quantile Loss: 0.3108243514717443\n"
     ]
    }
   ],
   "source": [
    "riv_quantile_loss_score = quantile_loss(torch.tensor(test_data['riv'].values),\n",
    "                                        torch.tensor(mean_riv_tensor), quantile=0.5)\n",
    "print(f'Quantile Loss: {riv_quantile_loss_score}')\n"
   ]
  },
  {
   "cell_type": "code",
   "execution_count": 48,
   "metadata": {},
   "outputs": [
    {
     "name": "stdout",
     "output_type": "stream",
     "text": [
      "RMSE: 0.7911494044792541\n"
     ]
    }
   ],
   "source": [
    "riv_rmse = root_mean_squared_error(test_data['riv'], mean_riv_tensor)\n",
    "print(f'RMSE: {riv_rmse}')"
   ]
  },
  {
   "cell_type": "markdown",
   "metadata": {},
   "source": [
    "## AI posts\n",
    "### Admiration"
   ]
  },
  {
   "cell_type": "code",
   "execution_count": 49,
   "metadata": {},
   "outputs": [],
   "source": [
    "ai_test_data = test_data[['post_ai','adm','riv']].dropna()"
   ]
  },
  {
   "cell_type": "code",
   "execution_count": 52,
   "metadata": {},
   "outputs": [],
   "source": [
    "mean_adm_tensor = np.full(ai_test_data.shape[0], np.mean(ai_test_data['adm']))"
   ]
  },
  {
   "cell_type": "code",
   "execution_count": 54,
   "metadata": {},
   "outputs": [
    {
     "name": "stdout",
     "output_type": "stream",
     "text": [
      "MAE: 0.9234790311418686\n"
     ]
    }
   ],
   "source": [
    "adm_mae = mean_absolute_error(ai_test_data['adm'], mean_adm_tensor)\n",
    "print(f'MAE: {adm_mae}')"
   ]
  },
  {
   "cell_type": "code",
   "execution_count": 56,
   "metadata": {},
   "outputs": [
    {
     "name": "stdout",
     "output_type": "stream",
     "text": [
      "MAXAE: 2.380717647058824\n"
     ]
    }
   ],
   "source": [
    "adm_maxae = np.max(np.abs(ai_test_data['adm'] - mean_adm_tensor))\n",
    "print(f'MAXAE: {adm_maxae}')"
   ]
  },
  {
   "cell_type": "code",
   "execution_count": 57,
   "metadata": {},
   "outputs": [
    {
     "name": "stdout",
     "output_type": "stream",
     "text": [
      "Huber Loss: 0.5327778402035416\n"
     ]
    }
   ],
   "source": [
    "adm_huber_loss_score = huber_loss(torch.tensor(ai_test_data['adm'].values),\n",
    "                                    torch.tensor(mean_adm_tensor))\n",
    "print(f'Huber Loss: {adm_huber_loss_score}')"
   ]
  },
  {
   "cell_type": "code",
   "execution_count": 58,
   "metadata": {},
   "outputs": [
    {
     "name": "stdout",
     "output_type": "stream",
     "text": [
      "Quantile Loss: 0.4617395155709343\n"
     ]
    }
   ],
   "source": [
    "adm_quantile_loss_score = quantile_loss(torch.tensor(ai_test_data['adm'].values),\n",
    "                                        torch.tensor(mean_adm_tensor), quantile=0.5)\n",
    "print(f'Quantile Loss: {adm_quantile_loss_score}')"
   ]
  },
  {
   "cell_type": "code",
   "execution_count": 59,
   "metadata": {},
   "outputs": [
    {
     "name": "stdout",
     "output_type": "stream",
     "text": [
      "RMSE: 1.10872033933948\n"
     ]
    }
   ],
   "source": [
    "adm_rmse = root_mean_squared_error(ai_test_data['adm'], mean_adm_tensor)\n",
    "print(f'RMSE: {adm_rmse}')"
   ]
  },
  {
   "cell_type": "markdown",
   "metadata": {},
   "source": [
    "### Rivalry"
   ]
  },
  {
   "cell_type": "code",
   "execution_count": 60,
   "metadata": {},
   "outputs": [],
   "source": [
    "mean_riv_tensor = np.full(ai_test_data.shape[0], np.mean(ai_test_data['riv']))"
   ]
  },
  {
   "cell_type": "code",
   "execution_count": 62,
   "metadata": {},
   "outputs": [
    {
     "name": "stdout",
     "output_type": "stream",
     "text": [
      "MAE: 0.6202103806228372\n"
     ]
    }
   ],
   "source": [
    "riv_mae = mean_absolute_error(ai_test_data['riv'], mean_riv_tensor)\n",
    "print(f'MAE: {riv_mae}')"
   ]
  },
  {
   "cell_type": "code",
   "execution_count": 63,
   "metadata": {},
   "outputs": [
    {
     "name": "stdout",
     "output_type": "stream",
     "text": [
      "MAXAE: 2.549364705882353\n"
     ]
    }
   ],
   "source": [
    "riv_maxae = np.max(np.abs(ai_test_data['riv'] - mean_riv_tensor))\n",
    "print(f'MAXAE: {riv_maxae}')"
   ]
  },
  {
   "cell_type": "code",
   "execution_count": 64,
   "metadata": {},
   "outputs": [
    {
     "name": "stdout",
     "output_type": "stream",
     "text": [
      "Huber Loss: 0.27872819826582534\n"
     ]
    }
   ],
   "source": [
    "riv_huber_loss_score = huber_loss(torch.tensor(ai_test_data['riv'].values),\n",
    "                                    torch.tensor(mean_riv_tensor))\n",
    "print(f'Huber Loss: {riv_huber_loss_score}')"
   ]
  },
  {
   "cell_type": "code",
   "execution_count": 65,
   "metadata": {},
   "outputs": [
    {
     "name": "stdout",
     "output_type": "stream",
     "text": [
      "Quantile Loss: 0.3101051903114186\n"
     ]
    }
   ],
   "source": [
    "riv_quantile_loss_score = quantile_loss(torch.tensor(ai_test_data['riv'].values),\n",
    "                                        torch.tensor(mean_riv_tensor), quantile=0.5)\n",
    "print(f'Quantile Loss: {riv_quantile_loss_score}')"
   ]
  },
  {
   "cell_type": "code",
   "execution_count": 66,
   "metadata": {},
   "outputs": [
    {
     "name": "stdout",
     "output_type": "stream",
     "text": [
      "RMSE: 0.8090958475477619\n"
     ]
    }
   ],
   "source": [
    "riv_rmse = root_mean_squared_error(ai_test_data['riv'], mean_riv_tensor)\n",
    "print(f'RMSE: {riv_rmse}')"
   ]
  },
  {
   "cell_type": "code",
   "execution_count": null,
   "metadata": {},
   "outputs": [],
   "source": []
  }
 ],
 "metadata": {
  "kernelspec": {
   "display_name": "narc-twitter",
   "language": "python",
   "name": "python3"
  },
  "language_info": {
   "codemirror_mode": {
    "name": "ipython",
    "version": 3
   },
   "file_extension": ".py",
   "mimetype": "text/x-python",
   "name": "python",
   "nbconvert_exporter": "python",
   "pygments_lexer": "ipython3",
   "version": "3.12.2"
  }
 },
 "nbformat": 4,
 "nbformat_minor": 2
}
